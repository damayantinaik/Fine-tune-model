{
  "cells": [
    {
      "cell_type": "markdown",
      "metadata": {
        "id": "view-in-github",
        "colab_type": "text"
      },
      "source": [
        "<a href=\"https://colab.research.google.com/github/damayantinaik/Fine-tune-model/blob/main/Fine_tuning_multilingual_NER_LLM_model.ipynb\" target=\"_parent\"><img src=\"https://colab.research.google.com/assets/colab-badge.svg\" alt=\"Open In Colab\"/></a>"
      ]
    },
    {
      "cell_type": "markdown",
      "metadata": {
        "id": "79gey1U00BVI"
      },
      "source": [
        "# **Fine-Tuning Multilingual Named Entity Recognition LLM model**"
      ]
    },
    {
      "cell_type": "markdown",
      "metadata": {
        "id": "3Fm_pd9G4z_0"
      },
      "source": [
        "Named Entity Recognition (NER) is very popular common task that identifies entities like person, organization, location in text. These entities can be used for many applications such as gaining insights from company documents, augmenting the quality of search engines, or building a structured database from a corpus.  "
      ]
    },
    {
      "cell_type": "markdown",
      "metadata": {
        "id": "b6fnbIOP8tco"
      },
      "source": [
        "In this project, I'll show how a single transformer model called \"XLM-RoBERTa\" can be fine-tuned to perform named entity recognition across several labnguages."
      ]
    },
    {
      "cell_type": "markdown",
      "metadata": {
        "id": "vZNy69XpOPZP"
      },
      "source": [
        "To carry out the task, I'm choosing to perform NER for Switzerland based customers, where there are four national languages German, French, Italian, and English (with English often serving as bridge between them).\n",
        "\n",
        "\n"
      ]
    },
    {
      "cell_type": "markdown",
      "metadata": {
        "id": "CsSc58CclWHV"
      },
      "source": [
        "# **Multilingual Transformers**"
      ]
    },
    {
      "cell_type": "markdown",
      "metadata": {
        "id": "fZxRGDd_hwc5"
      },
      "source": [
        "Multilingual transformers involve similar architecture and training procedures as monolingual counterparts. The only difference is that the multilingual transformers are trained on corpus created from multilanguage documents as compared to monolingual transformers where the later is only trained on corpus of one language. Multilingual transformers are able to generalize well across languages for a variety of down stream tasks."
      ]
    },
    {
      "cell_type": "markdown",
      "metadata": {
        "id": "qfXVx4UglwuX"
      },
      "source": [
        "One efficient multilingual Transformers is the XLM-RoBERTa (also called XLM-R). It has a large dataset, uses \"SentencePiece\" to tokenize the raw text. In this project, I'll fine-tune the model to obatin the maximum performance."
      ]
    },
    {
      "cell_type": "markdown",
      "metadata": {
        "id": "xbQs28hwNHS5"
      },
      "source": [
        "# **The Dataset**\n",
        "The dataset that I am going to use is a subset of XTREME (Cross-lingual TRansfer Evaluation of Multilingual Encoders) dataset from Hugging Face hub called WikiANN or PAN-X. This dataset consists of Wikipedia articles in many languages (176 languages), with labels for tagging tokens as person, location or organization using IOB-2 (Inside-Outside-Begining-2) format."
      ]
    },
    {
      "cell_type": "markdown",
      "metadata": {
        "id": "2oiLjuh0OqBy"
      },
      "source": [
        "# **Load the dataset**"
      ]
    },
    {
      "cell_type": "markdown",
      "metadata": {
        "id": "ALCqHulCZKSt"
      },
      "source": [
        "A datset comes in confugrations like 'cola', 'PAN-X', 'sst2', 'mrpc', 'qqp', 'stsb', 'mnli' etc, so, before we load our dataset in PAN-X configuration,  let us have a look on the configurations that it comes with and load the one we are interested in."
      ]
    },
    {
      "cell_type": "code",
      "execution_count": null,
      "metadata": {
        "id": "kAXXDRegZO9i"
      },
      "outputs": [],
      "source": [
        "import datasets"
      ]
    },
    {
      "cell_type": "code",
      "execution_count": null,
      "metadata": {
        "colab": {
          "base_uri": "https://localhost:8080/"
        },
        "id": "WdNHupeBZPLz",
        "outputId": "c8af2549-0801-47dc-91ac-08f27bdaa452"
      },
      "outputs": [
        {
          "name": "stderr",
          "output_type": "stream",
          "text": [
            "/usr/local/lib/python3.12/dist-packages/huggingface_hub/utils/_auth.py:94: UserWarning: \n",
            "The secret `HF_TOKEN` does not exist in your Colab secrets.\n",
            "To authenticate with the Hugging Face Hub, create a token in your settings tab (https://huggingface.co/settings/tokens), set it as secret in your Google Colab and restart your session.\n",
            "You will be able to reuse this secret in all of your notebooks.\n",
            "Please note that authentication is recommended but still optional to access public models or datasets.\n",
            "  warnings.warn(\n"
          ]
        },
        {
          "name": "stdout",
          "output_type": "stream",
          "text": [
            "XTREME has 183 configurations\n"
          ]
        }
      ],
      "source": [
        "from datasets import get_dataset_config_names\n",
        "xtreme_subsets = get_dataset_config_names('xtreme')\n",
        "print(f\"XTREME has {len(xtreme_subsets)} configurations\")\n"
      ]
    },
    {
      "cell_type": "markdown",
      "metadata": {
        "id": "Z7hmUQ-zY_m_"
      },
      "source": [
        "# **Exploratory Data Analysis**"
      ]
    },
    {
      "cell_type": "code",
      "execution_count": null,
      "metadata": {
        "colab": {
          "base_uri": "https://localhost:8080/"
        },
        "id": "_GRG5L1zaeqP",
        "outputId": "215b220c-2fe1-4b02-b02a-df6e00c1ac01"
      },
      "outputs": [
        {
          "data": {
            "text/plain": [
              "['MLQA.ar.ar', 'MLQA.ar.de', 'MLQA.ar.en', 'MLQA.ar.es', 'MLQA.ar.hi']"
            ]
          },
          "execution_count": 3,
          "metadata": {},
          "output_type": "execute_result"
        }
      ],
      "source": [
        "xtreme_subsets[:5]"
      ]
    },
    {
      "cell_type": "markdown",
      "metadata": {
        "id": "r7AAtGNgbPbs"
      },
      "source": [
        "The PAN-X (WikiANN) datset is specifically designed for training and evaluating NER that can identify and classify person, location and organization within text across multiple languages. The dataset is based on Wikipedia articles and annotated with location (LOC), person(PER) and organization(ORG) tags in IOB2 (Inside, Outside, Begining,  2)format.  "
      ]
    },
    {
      "cell_type": "markdown",
      "metadata": {
        "id": "0BArViQaduwj"
      },
      "source": [
        "So, we'll only look for the configuration that starts with \"PAN\":"
      ]
    },
    {
      "cell_type": "code",
      "execution_count": null,
      "metadata": {
        "id": "5SzUGps-bNCk"
      },
      "outputs": [],
      "source": [
        "panx_subset = [s for s in xtreme_subsets if s.startswith(\"PAN\")]"
      ]
    },
    {
      "cell_type": "code",
      "execution_count": null,
      "metadata": {
        "colab": {
          "base_uri": "https://localhost:8080/"
        },
        "id": "7DrIJbN3bNQz",
        "outputId": "cc713987-860a-4e11-f13a-df9f96f56df7"
      },
      "outputs": [
        {
          "data": {
            "text/plain": [
              "['PAN-X.af',\n",
              " 'PAN-X.ar',\n",
              " 'PAN-X.bg',\n",
              " 'PAN-X.bn',\n",
              " 'PAN-X.de',\n",
              " 'PAN-X.el',\n",
              " 'PAN-X.en',\n",
              " 'PAN-X.es',\n",
              " 'PAN-X.et',\n",
              " 'PAN-X.eu']"
            ]
          },
          "execution_count": 5,
          "metadata": {},
          "output_type": "execute_result"
        }
      ],
      "source": [
        "panx_subset[:10]"
      ]
    },
    {
      "cell_type": "markdown",
      "metadata": {
        "id": "uw1dtx7Kem-1"
      },
      "source": [
        "As there are four languages in Swizerland, to make a Swiss corpus, we'll sample the German(de), French(fr), Italian(it) and English(en) from PAN-X configuration(of course according to their spoken proportion): <br>\n",
        "German(62.9%) <br> French(22.9%) <br> Italian (8.4%) <br> English(5.9%)<br>\n",
        "\n",
        "Although imbalanced, this datset will represent the real-world dataset, where the numebr of samples from all languages are not always of same number. This happens because of the lack of expertise in minority languages. The de, fr, it, and en represents German, French, Itialian and English languages respectively."
      ]
    },
    {
      "cell_type": "code",
      "execution_count": null,
      "metadata": {
        "id": "jG-kd5ZYNVgi"
      },
      "outputs": [],
      "source": [
        "from collections import defaultdict\n",
        "from datasets import DatasetDict, load_dataset\n",
        "\n",
        "langs = ['de', 'fr', 'it', 'en']\n",
        "fracs = [0.629, 0.229, 0.084, 0.059]\n",
        "\n",
        "panx_ch = defaultdict(DatasetDict)\n",
        "\n",
        "for lang, frac in zip(langs, fracs):\n",
        "  # Load monolingual corpus\n",
        "  ds = load_dataset(f\"xtreme\", name = f\"PAN-X.{lang}\") # name: dataset configuration (or also called subset)\n",
        "# print(ds)\n",
        "# ds['train'][0]\n",
        "  for split in ds: # Split here is train, validation and test\n",
        "    panx_ch[lang][split] = ds[split].select(range(int(frac * len(ds[split]))))\n",
        "\n"
      ]
    },
    {
      "cell_type": "code",
      "execution_count": null,
      "metadata": {
        "colab": {
          "base_uri": "https://localhost:8080/",
          "height": 81
        },
        "id": "j7wL_OxXe21Z",
        "outputId": "ae456f02-68aa-4a43-f7cc-5b9ec80c3fb6"
      },
      "outputs": [
        {
          "data": {
            "application/vnd.google.colaboratory.intrinsic+json": {
              "summary": "{\n  \"name\": \"pd\",\n  \"rows\": 1,\n  \"fields\": [\n    {\n      \"column\": \"de\",\n      \"properties\": {\n        \"dtype\": \"number\",\n        \"std\": null,\n        \"min\": 12580,\n        \"max\": 12580,\n        \"num_unique_values\": 1,\n        \"samples\": [\n          12580\n        ],\n        \"semantic_type\": \"\",\n        \"description\": \"\"\n      }\n    },\n    {\n      \"column\": \"fr\",\n      \"properties\": {\n        \"dtype\": \"number\",\n        \"std\": null,\n        \"min\": 4580,\n        \"max\": 4580,\n        \"num_unique_values\": 1,\n        \"samples\": [\n          4580\n        ],\n        \"semantic_type\": \"\",\n        \"description\": \"\"\n      }\n    },\n    {\n      \"column\": \"it\",\n      \"properties\": {\n        \"dtype\": \"number\",\n        \"std\": null,\n        \"min\": 1680,\n        \"max\": 1680,\n        \"num_unique_values\": 1,\n        \"samples\": [\n          1680\n        ],\n        \"semantic_type\": \"\",\n        \"description\": \"\"\n      }\n    },\n    {\n      \"column\": \"en\",\n      \"properties\": {\n        \"dtype\": \"number\",\n        \"std\": null,\n        \"min\": 1180,\n        \"max\": 1180,\n        \"num_unique_values\": 1,\n        \"samples\": [\n          1180\n        ],\n        \"semantic_type\": \"\",\n        \"description\": \"\"\n      }\n    }\n  ]\n}",
              "type": "dataframe"
            },
            "text/html": [
              "\n",
              "  <div id=\"df-4ab759df-cf68-4e82-8cf1-0cdb33e09171\" class=\"colab-df-container\">\n",
              "    <div>\n",
              "<style scoped>\n",
              "    .dataframe tbody tr th:only-of-type {\n",
              "        vertical-align: middle;\n",
              "    }\n",
              "\n",
              "    .dataframe tbody tr th {\n",
              "        vertical-align: top;\n",
              "    }\n",
              "\n",
              "    .dataframe thead th {\n",
              "        text-align: right;\n",
              "    }\n",
              "</style>\n",
              "<table border=\"1\" class=\"dataframe\">\n",
              "  <thead>\n",
              "    <tr style=\"text-align: right;\">\n",
              "      <th></th>\n",
              "      <th>de</th>\n",
              "      <th>fr</th>\n",
              "      <th>it</th>\n",
              "      <th>en</th>\n",
              "    </tr>\n",
              "  </thead>\n",
              "  <tbody>\n",
              "    <tr>\n",
              "      <th>Number of training examples</th>\n",
              "      <td>12580</td>\n",
              "      <td>4580</td>\n",
              "      <td>1680</td>\n",
              "      <td>1180</td>\n",
              "    </tr>\n",
              "  </tbody>\n",
              "</table>\n",
              "</div>\n",
              "    <div class=\"colab-df-buttons\">\n",
              "\n",
              "  <div class=\"colab-df-container\">\n",
              "    <button class=\"colab-df-convert\" onclick=\"convertToInteractive('df-4ab759df-cf68-4e82-8cf1-0cdb33e09171')\"\n",
              "            title=\"Convert this dataframe to an interactive table.\"\n",
              "            style=\"display:none;\">\n",
              "\n",
              "  <svg xmlns=\"http://www.w3.org/2000/svg\" height=\"24px\" viewBox=\"0 -960 960 960\">\n",
              "    <path d=\"M120-120v-720h720v720H120Zm60-500h600v-160H180v160Zm220 220h160v-160H400v160Zm0 220h160v-160H400v160ZM180-400h160v-160H180v160Zm440 0h160v-160H620v160ZM180-180h160v-160H180v160Zm440 0h160v-160H620v160Z\"/>\n",
              "  </svg>\n",
              "    </button>\n",
              "\n",
              "  <style>\n",
              "    .colab-df-container {\n",
              "      display:flex;\n",
              "      gap: 12px;\n",
              "    }\n",
              "\n",
              "    .colab-df-convert {\n",
              "      background-color: #E8F0FE;\n",
              "      border: none;\n",
              "      border-radius: 50%;\n",
              "      cursor: pointer;\n",
              "      display: none;\n",
              "      fill: #1967D2;\n",
              "      height: 32px;\n",
              "      padding: 0 0 0 0;\n",
              "      width: 32px;\n",
              "    }\n",
              "\n",
              "    .colab-df-convert:hover {\n",
              "      background-color: #E2EBFA;\n",
              "      box-shadow: 0px 1px 2px rgba(60, 64, 67, 0.3), 0px 1px 3px 1px rgba(60, 64, 67, 0.15);\n",
              "      fill: #174EA6;\n",
              "    }\n",
              "\n",
              "    .colab-df-buttons div {\n",
              "      margin-bottom: 4px;\n",
              "    }\n",
              "\n",
              "    [theme=dark] .colab-df-convert {\n",
              "      background-color: #3B4455;\n",
              "      fill: #D2E3FC;\n",
              "    }\n",
              "\n",
              "    [theme=dark] .colab-df-convert:hover {\n",
              "      background-color: #434B5C;\n",
              "      box-shadow: 0px 1px 3px 1px rgba(0, 0, 0, 0.15);\n",
              "      filter: drop-shadow(0px 1px 2px rgba(0, 0, 0, 0.3));\n",
              "      fill: #FFFFFF;\n",
              "    }\n",
              "  </style>\n",
              "\n",
              "    <script>\n",
              "      const buttonEl =\n",
              "        document.querySelector('#df-4ab759df-cf68-4e82-8cf1-0cdb33e09171 button.colab-df-convert');\n",
              "      buttonEl.style.display =\n",
              "        google.colab.kernel.accessAllowed ? 'block' : 'none';\n",
              "\n",
              "      async function convertToInteractive(key) {\n",
              "        const element = document.querySelector('#df-4ab759df-cf68-4e82-8cf1-0cdb33e09171');\n",
              "        const dataTable =\n",
              "          await google.colab.kernel.invokeFunction('convertToInteractive',\n",
              "                                                    [key], {});\n",
              "        if (!dataTable) return;\n",
              "\n",
              "        const docLinkHtml = 'Like what you see? Visit the ' +\n",
              "          '<a target=\"_blank\" href=https://colab.research.google.com/notebooks/data_table.ipynb>data table notebook</a>'\n",
              "          + ' to learn more about interactive tables.';\n",
              "        element.innerHTML = '';\n",
              "        dataTable['output_type'] = 'display_data';\n",
              "        await google.colab.output.renderOutput(dataTable, element);\n",
              "        const docLink = document.createElement('div');\n",
              "        docLink.innerHTML = docLinkHtml;\n",
              "        element.appendChild(docLink);\n",
              "      }\n",
              "    </script>\n",
              "  </div>\n",
              "\n",
              "\n",
              "    </div>\n",
              "  </div>\n"
            ],
            "text/plain": [
              "                                de    fr    it    en\n",
              "Number of training examples  12580  4580  1680  1180"
            ]
          },
          "execution_count": 7,
          "metadata": {},
          "output_type": "execute_result"
        }
      ],
      "source": [
        "import pandas as pd\n",
        "pd.DataFrame({lang: [panx_ch[lang][\"train\"].num_rows] for lang in langs}, index = ['Number of training examples'])"
      ]
    },
    {
      "cell_type": "code",
      "execution_count": null,
      "metadata": {
        "colab": {
          "base_uri": "https://localhost:8080/"
        },
        "id": "_uvl4l6smru8",
        "outputId": "38b82047-5273-45de-d458-4f24a345da67"
      },
      "outputs": [
        {
          "data": {
            "text/plain": [
              "{'tokens': [['als', 'Teil', 'der', 'Savoyer', 'Voralpen', 'im', 'Osten', '.'],\n",
              "  ['WEITERLEITUNG', 'Antonina', 'Wladimirowna', 'Kriwoschapka'],\n",
              "  ['**', \"''\", 'Lou', 'Salomé', \"''\", '.']],\n",
              " 'ner_tags': [[0, 0, 0, 5, 6, 0, 0, 0], [0, 1, 2, 2], [0, 0, 1, 2, 0, 0]],\n",
              " 'langs': [['de', 'de', 'de', 'de', 'de', 'de', 'de', 'de'],\n",
              "  ['de', 'de', 'de', 'de'],\n",
              "  ['de', 'de', 'de', 'de', 'de', 'de']]}"
            ]
          },
          "execution_count": 8,
          "metadata": {},
          "output_type": "execute_result"
        }
      ],
      "source": [
        "panx_ch['de'][\"train\"][:3]"
      ]
    },
    {
      "cell_type": "code",
      "execution_count": null,
      "metadata": {
        "colab": {
          "base_uri": "https://localhost:8080/"
        },
        "id": "_FzpiTziGl8r",
        "outputId": "f7c82bfb-b814-405c-d546-3f0dce5053ea"
      },
      "outputs": [
        {
          "data": {
            "text/plain": [
              "{'tokens': List(Value('string')),\n",
              " 'ner_tags': List(ClassLabel(names=['O', 'B-PER', 'I-PER', 'B-ORG', 'I-ORG', 'B-LOC', 'I-LOC'])),\n",
              " 'langs': List(Value('string'))}"
            ]
          },
          "execution_count": 9,
          "metadata": {},
          "output_type": "execute_result"
        }
      ],
      "source": [
        "panx_ch['de']['train'].features"
      ]
    },
    {
      "cell_type": "code",
      "execution_count": null,
      "metadata": {
        "colab": {
          "base_uri": "https://localhost:8080/"
        },
        "id": "JSctV3kynNW3",
        "outputId": "83600680-ed2f-47e1-f9ca-b67cdc2a11ee"
      },
      "outputs": [
        {
          "name": "stdout",
          "output_type": "stream",
          "text": [
            "ClassLabel(names=['O', 'B-PER', 'I-PER', 'B-ORG', 'I-ORG', 'B-LOC', 'I-LOC'])\n",
            "['O', 'B-PER', 'I-PER', 'B-ORG', 'I-ORG', 'B-LOC', 'I-LOC']\n"
          ]
        }
      ],
      "source": [
        "tags = panx_ch['de']['train'].features['ner_tags'].feature\n",
        "print(tags)\n",
        "print(tags.names)\n"
      ]
    },
    {
      "cell_type": "code",
      "execution_count": null,
      "metadata": {
        "colab": {
          "base_uri": "https://localhost:8080/"
        },
        "id": "u-iCFvs2rwIC",
        "outputId": "18797da3-bb47-4785-d718-634be6047d91"
      },
      "outputs": [
        {
          "data": {
            "text/plain": [
              "{'tokens': ['als', 'Teil', 'der', 'Savoyer', 'Voralpen', 'im', 'Osten', '.'],\n",
              " 'ner_tags': [0, 0, 0, 5, 6, 0, 0, 0],\n",
              " 'langs': ['de', 'de', 'de', 'de', 'de', 'de', 'de', 'de'],\n",
              " 'ner_tags_str': ['O', 'O', 'O', 'B-LOC', 'I-LOC', 'O', 'O', 'O']}"
            ]
          },
          "execution_count": 11,
          "metadata": {},
          "output_type": "execute_result"
        }
      ],
      "source": [
        "# Convert the number to human readable string tags by using int2str() method on ClassLabel object\n",
        "# The above can be obtained by a function as defined below\n",
        "def create_tag_names(batch):\n",
        "  return {\"ner_tags_str\": [tags.int2str(idx) for idx in batch[\"ner_tags\"]]}\n",
        "\n",
        "panx_de = panx_ch['de'].map(create_tag_names)\n",
        "\n",
        "# Let us check the 1st row\n",
        "de_example = panx_de['train'][0]\n",
        "de_example\n"
      ]
    },
    {
      "cell_type": "markdown",
      "metadata": {
        "id": "79IoHWd3OBah"
      },
      "source": [
        "Let us check the English train dataset."
      ]
    },
    {
      "cell_type": "code",
      "execution_count": null,
      "metadata": {
        "colab": {
          "base_uri": "https://localhost:8080/"
        },
        "id": "ZYepEF7ztC2y",
        "outputId": "1c8ec013-db8e-43c5-888c-2bde8c66039f"
      },
      "outputs": [
        {
          "data": {
            "text/plain": [
              "{'tokens': [['R.H.',\n",
              "   'Saunders',\n",
              "   '(',\n",
              "   'St.',\n",
              "   'Lawrence',\n",
              "   'River',\n",
              "   ')',\n",
              "   '(',\n",
              "   '968',\n",
              "   'MW',\n",
              "   ')'],\n",
              "  [';', \"'\", \"''\", 'Anders', 'Lindström', \"''\", \"'\"],\n",
              "  ['Karl', 'Ove', 'Knausgård', '(', 'born', '1968', ')']],\n",
              " 'ner_tags': [[3, 4, 0, 3, 4, 4, 0, 0, 0, 0, 0],\n",
              "  [0, 0, 0, 1, 2, 0, 0],\n",
              "  [1, 2, 2, 0, 0, 0, 0]],\n",
              " 'langs': [['en', 'en', 'en', 'en', 'en', 'en', 'en', 'en', 'en', 'en', 'en'],\n",
              "  ['en', 'en', 'en', 'en', 'en', 'en', 'en'],\n",
              "  ['en', 'en', 'en', 'en', 'en', 'en', 'en']]}"
            ]
          },
          "execution_count": 12,
          "metadata": {},
          "output_type": "execute_result"
        }
      ],
      "source": [
        "panx_ch['en'][\"train\"][:3]"
      ]
    },
    {
      "cell_type": "code",
      "execution_count": null,
      "metadata": {
        "colab": {
          "base_uri": "https://localhost:8080/"
        },
        "id": "8ZIjcUcOtV5o",
        "outputId": "69e36c57-3222-4bc0-98cf-f8c596036fd5"
      },
      "outputs": [
        {
          "data": {
            "text/plain": [
              "{'tokens': List(Value('string')),\n",
              " 'ner_tags': List(ClassLabel(names=['O', 'B-PER', 'I-PER', 'B-ORG', 'I-ORG', 'B-LOC', 'I-LOC'])),\n",
              " 'langs': List(Value('string'))}"
            ]
          },
          "execution_count": 13,
          "metadata": {},
          "output_type": "execute_result"
        }
      ],
      "source": [
        "panx_ch['en']['train'].features"
      ]
    },
    {
      "cell_type": "code",
      "execution_count": null,
      "metadata": {
        "id": "rELqt0JZvrps"
      },
      "outputs": [],
      "source": [
        "tags2 = panx_ch['en']['train'].features['ner_tags'].feature"
      ]
    },
    {
      "cell_type": "code",
      "execution_count": null,
      "metadata": {
        "colab": {
          "base_uri": "https://localhost:8080/"
        },
        "id": "i_PbhaF-vzMp",
        "outputId": "51fede65-6ad3-47f3-c68b-3627ffb11655"
      },
      "outputs": [
        {
          "data": {
            "text/plain": [
              "ClassLabel(names=['O', 'B-PER', 'I-PER', 'B-ORG', 'I-ORG', 'B-LOC', 'I-LOC'])"
            ]
          },
          "execution_count": 15,
          "metadata": {},
          "output_type": "execute_result"
        }
      ],
      "source": [
        "tags2"
      ]
    },
    {
      "cell_type": "code",
      "execution_count": null,
      "metadata": {
        "id": "76MLyqhGv91l"
      },
      "outputs": [],
      "source": [
        "tags_arrangement = panx_ch['en']['train']['ner_tags'][0:3]"
      ]
    },
    {
      "cell_type": "code",
      "execution_count": null,
      "metadata": {
        "colab": {
          "base_uri": "https://localhost:8080/"
        },
        "id": "GC7dzv3FwJ6o",
        "outputId": "31758c55-9caf-4e38-873e-8d605364c0eb"
      },
      "outputs": [
        {
          "data": {
            "text/plain": [
              "[[3, 4, 0, 3, 4, 4, 0, 0, 0, 0, 0],\n",
              " [0, 0, 0, 1, 2, 0, 0],\n",
              " [1, 2, 2, 0, 0, 0, 0]]"
            ]
          },
          "execution_count": 17,
          "metadata": {},
          "output_type": "execute_result"
        }
      ],
      "source": [
        "tags_arrangement"
      ]
    },
    {
      "cell_type": "markdown",
      "metadata": {
        "id": "oXTkQt9Ham6f"
      },
      "source": [
        "**Let us check the datset to see we don't have unusual imbalance in the tags. Let us check the frequencies of the tags.**  "
      ]
    },
    {
      "cell_type": "code",
      "execution_count": null,
      "metadata": {
        "colab": {
          "base_uri": "https://localhost:8080/",
          "height": 143
        },
        "id": "MaZSM_QFsVtd",
        "outputId": "9c49c2c9-9e34-4393-f748-d991e3ca0218"
      },
      "outputs": [
        {
          "data": {
            "application/vnd.google.colaboratory.intrinsic+json": {
              "summary": "{\n  \"name\": \"pd\",\n  \"rows\": 3,\n  \"fields\": [\n    {\n      \"column\": \"LOC\",\n      \"properties\": {\n        \"dtype\": \"number\",\n        \"std\": 1698,\n        \"min\": 3127,\n        \"max\": 6089,\n        \"num_unique_values\": 3,\n        \"samples\": [\n          6089,\n          3127,\n          3166\n        ],\n        \"semantic_type\": \"\",\n        \"description\": \"\"\n      }\n    },\n    {\n      \"column\": \"PER\",\n      \"properties\": {\n        \"dtype\": \"number\",\n        \"std\": 1652,\n        \"min\": 2891,\n        \"max\": 5778,\n        \"num_unique_values\": 3,\n        \"samples\": [\n          5778,\n          2891,\n          2942\n        ],\n        \"semantic_type\": \"\",\n        \"description\": \"\"\n      }\n    },\n    {\n      \"column\": \"ORG\",\n      \"properties\": {\n        \"dtype\": \"number\",\n        \"std\": 1634,\n        \"min\": 2509,\n        \"max\": 5434,\n        \"num_unique_values\": 3,\n        \"samples\": [\n          5434,\n          2707,\n          2509\n        ],\n        \"semantic_type\": \"\",\n        \"description\": \"\"\n      }\n    }\n  ]\n}",
              "type": "dataframe"
            },
            "text/html": [
              "\n",
              "  <div id=\"df-71039caf-28eb-4768-ba97-d5bee69cf131\" class=\"colab-df-container\">\n",
              "    <div>\n",
              "<style scoped>\n",
              "    .dataframe tbody tr th:only-of-type {\n",
              "        vertical-align: middle;\n",
              "    }\n",
              "\n",
              "    .dataframe tbody tr th {\n",
              "        vertical-align: top;\n",
              "    }\n",
              "\n",
              "    .dataframe thead th {\n",
              "        text-align: right;\n",
              "    }\n",
              "</style>\n",
              "<table border=\"1\" class=\"dataframe\">\n",
              "  <thead>\n",
              "    <tr style=\"text-align: right;\">\n",
              "      <th></th>\n",
              "      <th>LOC</th>\n",
              "      <th>PER</th>\n",
              "      <th>ORG</th>\n",
              "    </tr>\n",
              "  </thead>\n",
              "  <tbody>\n",
              "    <tr>\n",
              "      <th>train</th>\n",
              "      <td>6089</td>\n",
              "      <td>5778</td>\n",
              "      <td>5434</td>\n",
              "    </tr>\n",
              "    <tr>\n",
              "      <th>validation</th>\n",
              "      <td>3127</td>\n",
              "      <td>2891</td>\n",
              "      <td>2707</td>\n",
              "    </tr>\n",
              "    <tr>\n",
              "      <th>test</th>\n",
              "      <td>3166</td>\n",
              "      <td>2942</td>\n",
              "      <td>2509</td>\n",
              "    </tr>\n",
              "  </tbody>\n",
              "</table>\n",
              "</div>\n",
              "    <div class=\"colab-df-buttons\">\n",
              "\n",
              "  <div class=\"colab-df-container\">\n",
              "    <button class=\"colab-df-convert\" onclick=\"convertToInteractive('df-71039caf-28eb-4768-ba97-d5bee69cf131')\"\n",
              "            title=\"Convert this dataframe to an interactive table.\"\n",
              "            style=\"display:none;\">\n",
              "\n",
              "  <svg xmlns=\"http://www.w3.org/2000/svg\" height=\"24px\" viewBox=\"0 -960 960 960\">\n",
              "    <path d=\"M120-120v-720h720v720H120Zm60-500h600v-160H180v160Zm220 220h160v-160H400v160Zm0 220h160v-160H400v160ZM180-400h160v-160H180v160Zm440 0h160v-160H620v160ZM180-180h160v-160H180v160Zm440 0h160v-160H620v160Z\"/>\n",
              "  </svg>\n",
              "    </button>\n",
              "\n",
              "  <style>\n",
              "    .colab-df-container {\n",
              "      display:flex;\n",
              "      gap: 12px;\n",
              "    }\n",
              "\n",
              "    .colab-df-convert {\n",
              "      background-color: #E8F0FE;\n",
              "      border: none;\n",
              "      border-radius: 50%;\n",
              "      cursor: pointer;\n",
              "      display: none;\n",
              "      fill: #1967D2;\n",
              "      height: 32px;\n",
              "      padding: 0 0 0 0;\n",
              "      width: 32px;\n",
              "    }\n",
              "\n",
              "    .colab-df-convert:hover {\n",
              "      background-color: #E2EBFA;\n",
              "      box-shadow: 0px 1px 2px rgba(60, 64, 67, 0.3), 0px 1px 3px 1px rgba(60, 64, 67, 0.15);\n",
              "      fill: #174EA6;\n",
              "    }\n",
              "\n",
              "    .colab-df-buttons div {\n",
              "      margin-bottom: 4px;\n",
              "    }\n",
              "\n",
              "    [theme=dark] .colab-df-convert {\n",
              "      background-color: #3B4455;\n",
              "      fill: #D2E3FC;\n",
              "    }\n",
              "\n",
              "    [theme=dark] .colab-df-convert:hover {\n",
              "      background-color: #434B5C;\n",
              "      box-shadow: 0px 1px 3px 1px rgba(0, 0, 0, 0.15);\n",
              "      filter: drop-shadow(0px 1px 2px rgba(0, 0, 0, 0.3));\n",
              "      fill: #FFFFFF;\n",
              "    }\n",
              "  </style>\n",
              "\n",
              "    <script>\n",
              "      const buttonEl =\n",
              "        document.querySelector('#df-71039caf-28eb-4768-ba97-d5bee69cf131 button.colab-df-convert');\n",
              "      buttonEl.style.display =\n",
              "        google.colab.kernel.accessAllowed ? 'block' : 'none';\n",
              "\n",
              "      async function convertToInteractive(key) {\n",
              "        const element = document.querySelector('#df-71039caf-28eb-4768-ba97-d5bee69cf131');\n",
              "        const dataTable =\n",
              "          await google.colab.kernel.invokeFunction('convertToInteractive',\n",
              "                                                    [key], {});\n",
              "        if (!dataTable) return;\n",
              "\n",
              "        const docLinkHtml = 'Like what you see? Visit the ' +\n",
              "          '<a target=\"_blank\" href=https://colab.research.google.com/notebooks/data_table.ipynb>data table notebook</a>'\n",
              "          + ' to learn more about interactive tables.';\n",
              "        element.innerHTML = '';\n",
              "        dataTable['output_type'] = 'display_data';\n",
              "        await google.colab.output.renderOutput(dataTable, element);\n",
              "        const docLink = document.createElement('div');\n",
              "        docLink.innerHTML = docLinkHtml;\n",
              "        element.appendChild(docLink);\n",
              "      }\n",
              "    </script>\n",
              "  </div>\n",
              "\n",
              "\n",
              "    <div id=\"df-c5feb7af-ab48-4ca4-afbc-b1cacbea5164\">\n",
              "      <button class=\"colab-df-quickchart\" onclick=\"quickchart('df-c5feb7af-ab48-4ca4-afbc-b1cacbea5164')\"\n",
              "                title=\"Suggest charts\"\n",
              "                style=\"display:none;\">\n",
              "\n",
              "<svg xmlns=\"http://www.w3.org/2000/svg\" height=\"24px\"viewBox=\"0 0 24 24\"\n",
              "     width=\"24px\">\n",
              "    <g>\n",
              "        <path d=\"M19 3H5c-1.1 0-2 .9-2 2v14c0 1.1.9 2 2 2h14c1.1 0 2-.9 2-2V5c0-1.1-.9-2-2-2zM9 17H7v-7h2v7zm4 0h-2V7h2v10zm4 0h-2v-4h2v4z\"/>\n",
              "    </g>\n",
              "</svg>\n",
              "      </button>\n",
              "\n",
              "<style>\n",
              "  .colab-df-quickchart {\n",
              "      --bg-color: #E8F0FE;\n",
              "      --fill-color: #1967D2;\n",
              "      --hover-bg-color: #E2EBFA;\n",
              "      --hover-fill-color: #174EA6;\n",
              "      --disabled-fill-color: #AAA;\n",
              "      --disabled-bg-color: #DDD;\n",
              "  }\n",
              "\n",
              "  [theme=dark] .colab-df-quickchart {\n",
              "      --bg-color: #3B4455;\n",
              "      --fill-color: #D2E3FC;\n",
              "      --hover-bg-color: #434B5C;\n",
              "      --hover-fill-color: #FFFFFF;\n",
              "      --disabled-bg-color: #3B4455;\n",
              "      --disabled-fill-color: #666;\n",
              "  }\n",
              "\n",
              "  .colab-df-quickchart {\n",
              "    background-color: var(--bg-color);\n",
              "    border: none;\n",
              "    border-radius: 50%;\n",
              "    cursor: pointer;\n",
              "    display: none;\n",
              "    fill: var(--fill-color);\n",
              "    height: 32px;\n",
              "    padding: 0;\n",
              "    width: 32px;\n",
              "  }\n",
              "\n",
              "  .colab-df-quickchart:hover {\n",
              "    background-color: var(--hover-bg-color);\n",
              "    box-shadow: 0 1px 2px rgba(60, 64, 67, 0.3), 0 1px 3px 1px rgba(60, 64, 67, 0.15);\n",
              "    fill: var(--button-hover-fill-color);\n",
              "  }\n",
              "\n",
              "  .colab-df-quickchart-complete:disabled,\n",
              "  .colab-df-quickchart-complete:disabled:hover {\n",
              "    background-color: var(--disabled-bg-color);\n",
              "    fill: var(--disabled-fill-color);\n",
              "    box-shadow: none;\n",
              "  }\n",
              "\n",
              "  .colab-df-spinner {\n",
              "    border: 2px solid var(--fill-color);\n",
              "    border-color: transparent;\n",
              "    border-bottom-color: var(--fill-color);\n",
              "    animation:\n",
              "      spin 1s steps(1) infinite;\n",
              "  }\n",
              "\n",
              "  @keyframes spin {\n",
              "    0% {\n",
              "      border-color: transparent;\n",
              "      border-bottom-color: var(--fill-color);\n",
              "      border-left-color: var(--fill-color);\n",
              "    }\n",
              "    20% {\n",
              "      border-color: transparent;\n",
              "      border-left-color: var(--fill-color);\n",
              "      border-top-color: var(--fill-color);\n",
              "    }\n",
              "    30% {\n",
              "      border-color: transparent;\n",
              "      border-left-color: var(--fill-color);\n",
              "      border-top-color: var(--fill-color);\n",
              "      border-right-color: var(--fill-color);\n",
              "    }\n",
              "    40% {\n",
              "      border-color: transparent;\n",
              "      border-right-color: var(--fill-color);\n",
              "      border-top-color: var(--fill-color);\n",
              "    }\n",
              "    60% {\n",
              "      border-color: transparent;\n",
              "      border-right-color: var(--fill-color);\n",
              "    }\n",
              "    80% {\n",
              "      border-color: transparent;\n",
              "      border-right-color: var(--fill-color);\n",
              "      border-bottom-color: var(--fill-color);\n",
              "    }\n",
              "    90% {\n",
              "      border-color: transparent;\n",
              "      border-bottom-color: var(--fill-color);\n",
              "    }\n",
              "  }\n",
              "</style>\n",
              "\n",
              "      <script>\n",
              "        async function quickchart(key) {\n",
              "          const quickchartButtonEl =\n",
              "            document.querySelector('#' + key + ' button');\n",
              "          quickchartButtonEl.disabled = true;  // To prevent multiple clicks.\n",
              "          quickchartButtonEl.classList.add('colab-df-spinner');\n",
              "          try {\n",
              "            const charts = await google.colab.kernel.invokeFunction(\n",
              "                'suggestCharts', [key], {});\n",
              "          } catch (error) {\n",
              "            console.error('Error during call to suggestCharts:', error);\n",
              "          }\n",
              "          quickchartButtonEl.classList.remove('colab-df-spinner');\n",
              "          quickchartButtonEl.classList.add('colab-df-quickchart-complete');\n",
              "        }\n",
              "        (() => {\n",
              "          let quickchartButtonEl =\n",
              "            document.querySelector('#df-c5feb7af-ab48-4ca4-afbc-b1cacbea5164 button');\n",
              "          quickchartButtonEl.style.display =\n",
              "            google.colab.kernel.accessAllowed ? 'block' : 'none';\n",
              "        })();\n",
              "      </script>\n",
              "    </div>\n",
              "\n",
              "    </div>\n",
              "  </div>\n"
            ],
            "text/plain": [
              "             LOC   PER   ORG\n",
              "train       6089  5778  5434\n",
              "validation  3127  2891  2707\n",
              "test        3166  2942  2509"
            ]
          },
          "execution_count": 18,
          "metadata": {},
          "output_type": "execute_result"
        }
      ],
      "source": [
        "from collections import Counter\n",
        "\n",
        "split2freqs = defaultdict(Counter)\n",
        "for split, dataset in panx_de.items(): # Here split is the train, validation, test\n",
        "  for row in dataset[\"ner_tags_str\"]:\n",
        "    for tag in row:\n",
        "      if tag.startswith(\"B\"):\n",
        "        tag_type = tag.split(\"-\")[1]\n",
        "        split2freqs[split][tag_type] +=1\n",
        "pd.DataFrame.from_dict(split2freqs, orient = 'index')\n"
      ]
    },
    {
      "cell_type": "markdown",
      "metadata": {
        "id": "WWsS-RTloUVy"
      },
      "source": [
        "The distribution of LOC, PER and ORG are nearly same in each split, so it is good to proceed further."
      ]
    },
    {
      "cell_type": "markdown",
      "metadata": {
        "id": "PWjJCIjTmWpp"
      },
      "source": [
        "# **Tokenization using XLM-R**"
      ]
    },
    {
      "cell_type": "markdown",
      "metadata": {
        "id": "z17a2NFcmrKA"
      },
      "source": [
        "## **Tokenizer pipeline**"
      ]
    },
    {
      "cell_type": "markdown",
      "metadata": {
        "id": "zxq8mL6Gmwl_"
      },
      "source": [
        "The tokenization is not a single step but a pipeline with multiple steps. The steps are:<br>\n",
        "**1. Normalization**<br>\n",
        "This steps involves <br>a. Stripping white space <br>b. removing accented characters <br>c. Unicode normailization (i.e writing the same character in various ways) <br>d. lowercasing the text (if needed) <br><br>\n",
        "**2. Pretokenization** <br> a. Split to words  <br><br>\n",
        "**3. Tokenizer model** <br> a. Further spilt the words formed in the Pretokenization steps (if required) <br> b. Convert them to input_ids (integers) <br><br>\n",
        "**4. Postprocessing** <br> a. Add the special tokens to start and end of each sentence. For example BERT uses (CLS, SEP) and XLM-R uses (<s>, <\\s>) .\n",
        "\n"
      ]
    },
    {
      "cell_type": "markdown",
      "metadata": {
        "id": "zSXGfiLxw5p7"
      },
      "source": [
        "The XLM-R used \"SentencePiece\" tokenizer which is based on type of subword segmentation called \"Unigram\" and encodes each input text as a sequence of Unicode characters."
      ]
    },
    {
      "cell_type": "markdown",
      "metadata": {
        "id": "VtA_3wf6c_dO"
      },
      "source": [
        "# **Building Tokenizer**"
      ]
    },
    {
      "cell_type": "code",
      "execution_count": null,
      "metadata": {
        "colab": {
          "base_uri": "https://localhost:8080/"
        },
        "id": "MvbUufPE6yWg",
        "outputId": "9c10abd9-2c69-4b5b-9660-2588ca57fc23"
      },
      "outputs": [
        {
          "name": "stdout",
          "output_type": "stream",
          "text": [
            "Output from tokenizer: {'input_ids': [0, 21763, 37456, 15555, 5161, 7, 2356, 5753, 38, 2], 'attention_mask': [1, 1, 1, 1, 1, 1, 1, 1, 1, 1]}\n"
          ]
        }
      ],
      "source": [
        "from transformers import AutoTokenizer\n",
        "xlmr_model_name = 'xlm-roberta-base'\n",
        "xlmr_tokenizer = AutoTokenizer.from_pretrained(xlmr_model_name)\n",
        "\n",
        "# Test on a text\n",
        "text = \"Jack Sparrow loves New York!\"\n",
        "input_ids = xlmr_tokenizer(text)\n",
        "print(f\"Output from tokenizer: {input_ids}\")"
      ]
    },
    {
      "cell_type": "code",
      "execution_count": null,
      "metadata": {
        "colab": {
          "base_uri": "https://localhost:8080/"
        },
        "id": "WsmgL1N2nBTr",
        "outputId": "6f3eba86-b133-4748-db17-8531a93bb72f"
      },
      "outputs": [
        {
          "name": "stdout",
          "output_type": "stream",
          "text": [
            "\n",
            "The tokens: ['<s>', '▁Jack', '▁Spar', 'row', '▁love', 's', '▁New', '▁York', '!', '</s>']\n"
          ]
        }
      ],
      "source": [
        "# For testing, return back to tokens\n",
        "xlmr_tokens = input_ids.tokens()\n",
        "print(f\"\\nThe tokens: {xlmr_tokens}\")"
      ]
    },
    {
      "cell_type": "markdown",
      "metadata": {
        "id": "-sasoUIvaJ9L"
      },
      "source": [
        "# **Tokenize the whole dataset**"
      ]
    },
    {
      "cell_type": "markdown",
      "metadata": {
        "id": "nJphdzTuT3E1"
      },
      "source": [
        "Now let us write a function to tokenize the whole dataset, and further converting them to ids (in serial number)."
      ]
    },
    {
      "cell_type": "code",
      "execution_count": null,
      "metadata": {
        "id": "jZ3ZOTaQTymI"
      },
      "outputs": [],
      "source": [
        "# Define a function to obtain tokenization for feeding into NER classification model\n",
        "def tokenize_and_align_labels(examples):\n",
        "  # Convert this to input_ids and attention_mask\n",
        "  tokenized_inputs_ids = xlmr_tokenizer(examples[\"tokens\"], truncation = True, is_split_into_words = True)\n",
        "\n",
        "  labels = []\n",
        "\n",
        "  for idx, label in enumerate(examples[\"ner_tags\"]):\n",
        "    #\n",
        "    word_ids = tokenized_inputs_ids.word_ids(batch_index = idx)\n",
        "    previous_word_idx = None\n",
        "    label_ids = []\n",
        "\n",
        "    for word_idx in word_ids:\n",
        "      if word_idx is None or word_idx == previous_word_idx:\n",
        "          label_ids.append(-100)\n",
        "      else:\n",
        "        label_ids.append(label[word_idx])\n",
        "\n",
        "      previous_word_idx = word_idx\n",
        "\n",
        "    labels.append(label_ids)\n",
        "  tokenized_inputs_ids[\"labels\"] = labels\n",
        "  return tokenized_inputs_ids"
      ]
    },
    {
      "cell_type": "markdown",
      "metadata": {
        "id": "DkBdN7PDara6"
      },
      "source": [
        "With the above function we can encode each split, so let us write a function that we can itrate over."
      ]
    },
    {
      "cell_type": "code",
      "execution_count": null,
      "metadata": {
        "id": "F_KZDWC1aatK"
      },
      "outputs": [],
      "source": [
        "def encode_panx_dataset(corpus):\n",
        "  return corpus.map(tokenize_and_align_labels, batched = True, remove_columns = ['langs', 'ner_tags', 'tokens'] )"
      ]
    },
    {
      "cell_type": "code",
      "execution_count": null,
      "metadata": {
        "colab": {
          "base_uri": "https://localhost:8080/",
          "height": 49,
          "referenced_widgets": [
            "dc98f3e1e3b84cb1a5cf921954100348",
            "a7815cf982854867a0507a56de2ec9d6",
            "0b439b2790f1458394e66c614dbcb784",
            "c493deabb833490eb8841c0bf3e97ab6",
            "976c7a61f42343eb8a1176dac68cbd0d",
            "38c7283a41eb4cb98c65fcd64769d20f",
            "7497b92089e84b8fa72a435817dc6b54",
            "be337367df68446fb9e00af5c2e4ee66",
            "4351a48181e34459bb081e5996ff005a",
            "bedf863fc4b24c74945f978998685546",
            "f097f314b45445afaa26224be4c75fd5"
          ]
        },
        "id": "QCoBNP0Ha4av",
        "outputId": "742e62e9-2b0d-447a-a400-6ebee8956ce2"
      },
      "outputs": [
        {
          "data": {
            "application/vnd.jupyter.widget-view+json": {
              "model_id": "dc98f3e1e3b84cb1a5cf921954100348",
              "version_major": 2,
              "version_minor": 0
            },
            "text/plain": [
              "Map:   0%|          | 0/840 [00:00<?, ? examples/s]"
            ]
          },
          "metadata": {},
          "output_type": "display_data"
        }
      ],
      "source": [
        "# By applying this function to DatasetDict object (train, test, validation), we'll obtain an encoded Dataset object per split.\n",
        "panx_de_encoded = encode_panx_dataset(panx_ch[\"de\"])\n",
        "panx_fr_encoded = encode_panx_dataset(panx_ch[\"fr\"])\n",
        "panx_it_encoded = encode_panx_dataset(panx_ch[\"it\"])\n",
        "panx_en_encoded = encode_panx_dataset(panx_ch[\"en\"])"
      ]
    },
    {
      "cell_type": "code",
      "execution_count": null,
      "metadata": {
        "id": "Aoq2Uh_HVv_P"
      },
      "outputs": [],
      "source": [
        "index2tag = {idx: tag for idx, tag in enumerate(tags.names)} # tags.names = ['O', 'B-PER', 'I-PER', 'B-ORG', 'I-ORG', 'B-LOC', 'I-LOC']\n",
        "tag2index = {tag: idx for idx, tag in enumerate(tags.names)}"
      ]
    },
    {
      "cell_type": "code",
      "execution_count": null,
      "metadata": {
        "colab": {
          "base_uri": "https://localhost:8080/"
        },
        "id": "eK2stlu8ZjNc",
        "outputId": "4db8f17e-acdb-41a3-d4e7-a8b33bada4b4"
      },
      "outputs": [
        {
          "data": {
            "text/plain": [
              "7"
            ]
          },
          "execution_count": 25,
          "metadata": {},
          "output_type": "execute_result"
        }
      ],
      "source": [
        "tags.num_classes"
      ]
    },
    {
      "cell_type": "markdown",
      "metadata": {
        "id": "15JSB3Eedijh"
      },
      "source": [
        "# **Building Configuration <br>**\n",
        "The AutoConfig class contains the blueprint of the LLM model's architecture. To configure, we'll load with AutoConfig class. Further we need to modify this with number of labels (number of classes)."
      ]
    },
    {
      "cell_type": "code",
      "execution_count": null,
      "metadata": {
        "id": "z7Wx3NtkeoKs"
      },
      "outputs": [],
      "source": [
        "from transformers import AutoConfig\n",
        "xlmr_config = AutoConfig.from_pretrained(xlmr_model_name, num_labels = tags.num_classes, id2label = index2tag, label2id = tag2index)"
      ]
    },
    {
      "cell_type": "code",
      "execution_count": null,
      "metadata": {
        "id": "nALX2shsdgcM"
      },
      "outputs": [],
      "source": [
        "#from transformers import XLMRobertaConfig\n",
        "#xlmr_config = XLMRRobertaConfig()\n",
        "#print(xlmr_config)"
      ]
    },
    {
      "cell_type": "markdown",
      "metadata": {
        "id": "jULdeW5LmtGu"
      },
      "source": [
        "\n",
        "\n",
        "---\n",
        "\n"
      ]
    },
    {
      "cell_type": "markdown",
      "metadata": {
        "id": "Ikm9JRlzyTU-"
      },
      "source": [
        "# **Fine-Tune XLM-Roberta**"
      ]
    },
    {
      "cell_type": "markdown",
      "metadata": {
        "id": "Jy1pD_0C0Okf"
      },
      "source": [
        "To fine-tune our model, first I'll fine-tune our base model on the German subset of PAN-X and then evaluate its zero-shot cross-lingual on French, Italian and English. For this, I'll use the Trainer() class to handle our training loop. However, to build a trainer class I need to instatinate a TrainingArguments class with all the\n",
        "required arguments.<br><br>The trainer class for our task here requires following:<br>\n",
        "\n",
        "* Initialization parameters\n",
        "* Training arguments\n",
        "* Data collator\n",
        "* Evaluation metrics\n",
        " Let us build those below."
      ]
    },
    {
      "cell_type": "markdown",
      "metadata": {
        "id": "HqdRvigNjAal"
      },
      "source": [
        "### **Initializing the model's paramters (loading XLM-R model's weight)**"
      ]
    },
    {
      "cell_type": "markdown",
      "metadata": {
        "id": "t34s-IcljhRv"
      },
      "source": [
        "Here, we may required to train several models, so to avoid intilizing a new model each time, we'll write a function to carry out the job."
      ]
    },
    {
      "cell_type": "markdown",
      "metadata": {
        "id": "OvIWrDwmICmL"
      },
      "source": [
        "Here, we'll import XLMRobertaForTokenClassification pre-trained model to obtain all the model weights."
      ]
    },
    {
      "cell_type": "code",
      "execution_count": null,
      "metadata": {
        "id": "nCcSFWgDjNYw"
      },
      "outputs": [],
      "source": [
        "import torch\n",
        "device = torch.device(\"cuda\" if torch.cuda.is_available() else \"cpu\")"
      ]
    },
    {
      "cell_type": "code",
      "execution_count": null,
      "metadata": {
        "colab": {
          "base_uri": "https://localhost:8080/"
        },
        "id": "2CBngimUIBuV",
        "outputId": "8dfac8c5-d9be-475d-fbd3-21a465684ceb"
      },
      "outputs": [
        {
          "name": "stderr",
          "output_type": "stream",
          "text": [
            "Some weights of XLMRobertaForTokenClassification were not initialized from the model checkpoint at xlm-roberta-base and are newly initialized: ['classifier.bias', 'classifier.weight']\n",
            "You should probably TRAIN this model on a down-stream task to be able to use it for predictions and inference.\n"
          ]
        }
      ],
      "source": [
        "from transformers import XLMRobertaForTokenClassification\n",
        "xlmr_model = (XLMRobertaForTokenClassification.from_pretrained(xlmr_model_name, config = xlmr_config).to(device))"
      ]
    },
    {
      "cell_type": "markdown",
      "metadata": {
        "id": "xIgeCpywJVhB"
      },
      "source": [
        "As a quick check that we have initialized the tokenizer and model correctly, let us test our prediction on our small text \"Jack Sparrow loves New York!\""
      ]
    },
    {
      "cell_type": "code",
      "execution_count": null,
      "metadata": {
        "id": "e2mvExNYJ48i"
      },
      "outputs": [],
      "source": [
        "input_ids = xlmr_tokenizer.encode(text, return_tensors = \"pt\")\n"
      ]
    },
    {
      "cell_type": "code",
      "execution_count": null,
      "metadata": {
        "colab": {
          "base_uri": "https://localhost:8080/"
        },
        "id": "pp6bDyY0MQjD",
        "outputId": "e1f7d72a-c68c-4f63-f784-574e651f01c9"
      },
      "outputs": [
        {
          "data": {
            "text/plain": [
              "tensor([[    0, 21763, 37456, 15555,  5161,     7,  2356,  5753,    38,     2]])"
            ]
          },
          "execution_count": 31,
          "metadata": {},
          "output_type": "execute_result"
        }
      ],
      "source": [
        "input_ids"
      ]
    },
    {
      "cell_type": "markdown",
      "metadata": {
        "id": "2_kxJ_v0LNlI"
      },
      "source": [
        "Let us make a dataframe with the tokens and input_ids."
      ]
    },
    {
      "cell_type": "code",
      "execution_count": null,
      "metadata": {
        "colab": {
          "base_uri": "https://localhost:8080/",
          "height": 363
        },
        "id": "YWCH82ZXLKzc",
        "outputId": "ed95a676-71c1-4e53-a6d7-befd771669a4"
      },
      "outputs": [
        {
          "data": {
            "application/vnd.google.colaboratory.intrinsic+json": {
              "summary": "{\n  \"name\": \"pd\",\n  \"rows\": 10,\n  \"fields\": [\n    {\n      \"column\": \"tokens\",\n      \"properties\": {\n        \"dtype\": \"string\",\n        \"num_unique_values\": 10,\n        \"samples\": [\n          \"!\",\n          \"\\u2581Jack\",\n          \"s\"\n        ],\n        \"semantic_type\": \"\",\n        \"description\": \"\"\n      }\n    },\n    {\n      \"column\": \"input_ids\",\n      \"properties\": {\n        \"dtype\": \"number\",\n        \"std\": 12506,\n        \"min\": 0,\n        \"max\": 37456,\n        \"num_unique_values\": 10,\n        \"samples\": [\n          38,\n          21763,\n          7\n        ],\n        \"semantic_type\": \"\",\n        \"description\": \"\"\n      }\n    }\n  ]\n}",
              "type": "dataframe"
            },
            "text/html": [
              "\n",
              "  <div id=\"df-f68f1212-f07d-4498-8ab9-a6e44897e05e\" class=\"colab-df-container\">\n",
              "    <div>\n",
              "<style scoped>\n",
              "    .dataframe tbody tr th:only-of-type {\n",
              "        vertical-align: middle;\n",
              "    }\n",
              "\n",
              "    .dataframe tbody tr th {\n",
              "        vertical-align: top;\n",
              "    }\n",
              "\n",
              "    .dataframe thead th {\n",
              "        text-align: right;\n",
              "    }\n",
              "</style>\n",
              "<table border=\"1\" class=\"dataframe\">\n",
              "  <thead>\n",
              "    <tr style=\"text-align: right;\">\n",
              "      <th></th>\n",
              "      <th>tokens</th>\n",
              "      <th>input_ids</th>\n",
              "    </tr>\n",
              "  </thead>\n",
              "  <tbody>\n",
              "    <tr>\n",
              "      <th>0</th>\n",
              "      <td>&lt;s&gt;</td>\n",
              "      <td>0</td>\n",
              "    </tr>\n",
              "    <tr>\n",
              "      <th>1</th>\n",
              "      <td>▁Jack</td>\n",
              "      <td>21763</td>\n",
              "    </tr>\n",
              "    <tr>\n",
              "      <th>2</th>\n",
              "      <td>▁Spar</td>\n",
              "      <td>37456</td>\n",
              "    </tr>\n",
              "    <tr>\n",
              "      <th>3</th>\n",
              "      <td>row</td>\n",
              "      <td>15555</td>\n",
              "    </tr>\n",
              "    <tr>\n",
              "      <th>4</th>\n",
              "      <td>▁love</td>\n",
              "      <td>5161</td>\n",
              "    </tr>\n",
              "    <tr>\n",
              "      <th>5</th>\n",
              "      <td>s</td>\n",
              "      <td>7</td>\n",
              "    </tr>\n",
              "    <tr>\n",
              "      <th>6</th>\n",
              "      <td>▁New</td>\n",
              "      <td>2356</td>\n",
              "    </tr>\n",
              "    <tr>\n",
              "      <th>7</th>\n",
              "      <td>▁York</td>\n",
              "      <td>5753</td>\n",
              "    </tr>\n",
              "    <tr>\n",
              "      <th>8</th>\n",
              "      <td>!</td>\n",
              "      <td>38</td>\n",
              "    </tr>\n",
              "    <tr>\n",
              "      <th>9</th>\n",
              "      <td>&lt;/s&gt;</td>\n",
              "      <td>2</td>\n",
              "    </tr>\n",
              "  </tbody>\n",
              "</table>\n",
              "</div>\n",
              "    <div class=\"colab-df-buttons\">\n",
              "\n",
              "  <div class=\"colab-df-container\">\n",
              "    <button class=\"colab-df-convert\" onclick=\"convertToInteractive('df-f68f1212-f07d-4498-8ab9-a6e44897e05e')\"\n",
              "            title=\"Convert this dataframe to an interactive table.\"\n",
              "            style=\"display:none;\">\n",
              "\n",
              "  <svg xmlns=\"http://www.w3.org/2000/svg\" height=\"24px\" viewBox=\"0 -960 960 960\">\n",
              "    <path d=\"M120-120v-720h720v720H120Zm60-500h600v-160H180v160Zm220 220h160v-160H400v160Zm0 220h160v-160H400v160ZM180-400h160v-160H180v160Zm440 0h160v-160H620v160ZM180-180h160v-160H180v160Zm440 0h160v-160H620v160Z\"/>\n",
              "  </svg>\n",
              "    </button>\n",
              "\n",
              "  <style>\n",
              "    .colab-df-container {\n",
              "      display:flex;\n",
              "      gap: 12px;\n",
              "    }\n",
              "\n",
              "    .colab-df-convert {\n",
              "      background-color: #E8F0FE;\n",
              "      border: none;\n",
              "      border-radius: 50%;\n",
              "      cursor: pointer;\n",
              "      display: none;\n",
              "      fill: #1967D2;\n",
              "      height: 32px;\n",
              "      padding: 0 0 0 0;\n",
              "      width: 32px;\n",
              "    }\n",
              "\n",
              "    .colab-df-convert:hover {\n",
              "      background-color: #E2EBFA;\n",
              "      box-shadow: 0px 1px 2px rgba(60, 64, 67, 0.3), 0px 1px 3px 1px rgba(60, 64, 67, 0.15);\n",
              "      fill: #174EA6;\n",
              "    }\n",
              "\n",
              "    .colab-df-buttons div {\n",
              "      margin-bottom: 4px;\n",
              "    }\n",
              "\n",
              "    [theme=dark] .colab-df-convert {\n",
              "      background-color: #3B4455;\n",
              "      fill: #D2E3FC;\n",
              "    }\n",
              "\n",
              "    [theme=dark] .colab-df-convert:hover {\n",
              "      background-color: #434B5C;\n",
              "      box-shadow: 0px 1px 3px 1px rgba(0, 0, 0, 0.15);\n",
              "      filter: drop-shadow(0px 1px 2px rgba(0, 0, 0, 0.3));\n",
              "      fill: #FFFFFF;\n",
              "    }\n",
              "  </style>\n",
              "\n",
              "    <script>\n",
              "      const buttonEl =\n",
              "        document.querySelector('#df-f68f1212-f07d-4498-8ab9-a6e44897e05e button.colab-df-convert');\n",
              "      buttonEl.style.display =\n",
              "        google.colab.kernel.accessAllowed ? 'block' : 'none';\n",
              "\n",
              "      async function convertToInteractive(key) {\n",
              "        const element = document.querySelector('#df-f68f1212-f07d-4498-8ab9-a6e44897e05e');\n",
              "        const dataTable =\n",
              "          await google.colab.kernel.invokeFunction('convertToInteractive',\n",
              "                                                    [key], {});\n",
              "        if (!dataTable) return;\n",
              "\n",
              "        const docLinkHtml = 'Like what you see? Visit the ' +\n",
              "          '<a target=\"_blank\" href=https://colab.research.google.com/notebooks/data_table.ipynb>data table notebook</a>'\n",
              "          + ' to learn more about interactive tables.';\n",
              "        element.innerHTML = '';\n",
              "        dataTable['output_type'] = 'display_data';\n",
              "        await google.colab.output.renderOutput(dataTable, element);\n",
              "        const docLink = document.createElement('div');\n",
              "        docLink.innerHTML = docLinkHtml;\n",
              "        element.appendChild(docLink);\n",
              "      }\n",
              "    </script>\n",
              "  </div>\n",
              "\n",
              "\n",
              "    <div id=\"df-21009c47-0e27-4b9a-82b5-0e29def24e46\">\n",
              "      <button class=\"colab-df-quickchart\" onclick=\"quickchart('df-21009c47-0e27-4b9a-82b5-0e29def24e46')\"\n",
              "                title=\"Suggest charts\"\n",
              "                style=\"display:none;\">\n",
              "\n",
              "<svg xmlns=\"http://www.w3.org/2000/svg\" height=\"24px\"viewBox=\"0 0 24 24\"\n",
              "     width=\"24px\">\n",
              "    <g>\n",
              "        <path d=\"M19 3H5c-1.1 0-2 .9-2 2v14c0 1.1.9 2 2 2h14c1.1 0 2-.9 2-2V5c0-1.1-.9-2-2-2zM9 17H7v-7h2v7zm4 0h-2V7h2v10zm4 0h-2v-4h2v4z\"/>\n",
              "    </g>\n",
              "</svg>\n",
              "      </button>\n",
              "\n",
              "<style>\n",
              "  .colab-df-quickchart {\n",
              "      --bg-color: #E8F0FE;\n",
              "      --fill-color: #1967D2;\n",
              "      --hover-bg-color: #E2EBFA;\n",
              "      --hover-fill-color: #174EA6;\n",
              "      --disabled-fill-color: #AAA;\n",
              "      --disabled-bg-color: #DDD;\n",
              "  }\n",
              "\n",
              "  [theme=dark] .colab-df-quickchart {\n",
              "      --bg-color: #3B4455;\n",
              "      --fill-color: #D2E3FC;\n",
              "      --hover-bg-color: #434B5C;\n",
              "      --hover-fill-color: #FFFFFF;\n",
              "      --disabled-bg-color: #3B4455;\n",
              "      --disabled-fill-color: #666;\n",
              "  }\n",
              "\n",
              "  .colab-df-quickchart {\n",
              "    background-color: var(--bg-color);\n",
              "    border: none;\n",
              "    border-radius: 50%;\n",
              "    cursor: pointer;\n",
              "    display: none;\n",
              "    fill: var(--fill-color);\n",
              "    height: 32px;\n",
              "    padding: 0;\n",
              "    width: 32px;\n",
              "  }\n",
              "\n",
              "  .colab-df-quickchart:hover {\n",
              "    background-color: var(--hover-bg-color);\n",
              "    box-shadow: 0 1px 2px rgba(60, 64, 67, 0.3), 0 1px 3px 1px rgba(60, 64, 67, 0.15);\n",
              "    fill: var(--button-hover-fill-color);\n",
              "  }\n",
              "\n",
              "  .colab-df-quickchart-complete:disabled,\n",
              "  .colab-df-quickchart-complete:disabled:hover {\n",
              "    background-color: var(--disabled-bg-color);\n",
              "    fill: var(--disabled-fill-color);\n",
              "    box-shadow: none;\n",
              "  }\n",
              "\n",
              "  .colab-df-spinner {\n",
              "    border: 2px solid var(--fill-color);\n",
              "    border-color: transparent;\n",
              "    border-bottom-color: var(--fill-color);\n",
              "    animation:\n",
              "      spin 1s steps(1) infinite;\n",
              "  }\n",
              "\n",
              "  @keyframes spin {\n",
              "    0% {\n",
              "      border-color: transparent;\n",
              "      border-bottom-color: var(--fill-color);\n",
              "      border-left-color: var(--fill-color);\n",
              "    }\n",
              "    20% {\n",
              "      border-color: transparent;\n",
              "      border-left-color: var(--fill-color);\n",
              "      border-top-color: var(--fill-color);\n",
              "    }\n",
              "    30% {\n",
              "      border-color: transparent;\n",
              "      border-left-color: var(--fill-color);\n",
              "      border-top-color: var(--fill-color);\n",
              "      border-right-color: var(--fill-color);\n",
              "    }\n",
              "    40% {\n",
              "      border-color: transparent;\n",
              "      border-right-color: var(--fill-color);\n",
              "      border-top-color: var(--fill-color);\n",
              "    }\n",
              "    60% {\n",
              "      border-color: transparent;\n",
              "      border-right-color: var(--fill-color);\n",
              "    }\n",
              "    80% {\n",
              "      border-color: transparent;\n",
              "      border-right-color: var(--fill-color);\n",
              "      border-bottom-color: var(--fill-color);\n",
              "    }\n",
              "    90% {\n",
              "      border-color: transparent;\n",
              "      border-bottom-color: var(--fill-color);\n",
              "    }\n",
              "  }\n",
              "</style>\n",
              "\n",
              "      <script>\n",
              "        async function quickchart(key) {\n",
              "          const quickchartButtonEl =\n",
              "            document.querySelector('#' + key + ' button');\n",
              "          quickchartButtonEl.disabled = true;  // To prevent multiple clicks.\n",
              "          quickchartButtonEl.classList.add('colab-df-spinner');\n",
              "          try {\n",
              "            const charts = await google.colab.kernel.invokeFunction(\n",
              "                'suggestCharts', [key], {});\n",
              "          } catch (error) {\n",
              "            console.error('Error during call to suggestCharts:', error);\n",
              "          }\n",
              "          quickchartButtonEl.classList.remove('colab-df-spinner');\n",
              "          quickchartButtonEl.classList.add('colab-df-quickchart-complete');\n",
              "        }\n",
              "        (() => {\n",
              "          let quickchartButtonEl =\n",
              "            document.querySelector('#df-21009c47-0e27-4b9a-82b5-0e29def24e46 button');\n",
              "          quickchartButtonEl.style.display =\n",
              "            google.colab.kernel.accessAllowed ? 'block' : 'none';\n",
              "        })();\n",
              "      </script>\n",
              "    </div>\n",
              "\n",
              "    </div>\n",
              "  </div>\n"
            ],
            "text/plain": [
              "  tokens  input_ids\n",
              "0    <s>          0\n",
              "1  ▁Jack      21763\n",
              "2  ▁Spar      37456\n",
              "3    row      15555\n",
              "4  ▁love       5161\n",
              "5      s          7\n",
              "6   ▁New       2356\n",
              "7  ▁York       5753\n",
              "8      !         38\n",
              "9   </s>          2"
            ]
          },
          "execution_count": 32,
          "metadata": {},
          "output_type": "execute_result"
        }
      ],
      "source": [
        "pd.DataFrame({'tokens': xlmr_tokens, 'input_ids':input_ids[0].numpy()})"
      ]
    },
    {
      "cell_type": "markdown",
      "metadata": {
        "id": "diNO7VJ2pNoO"
      },
      "source": [
        "Here, we see the start <s> and end </s> are given the IDs 0 and 2 respectively."
      ]
    },
    {
      "cell_type": "code",
      "execution_count": null,
      "metadata": {
        "id": "9-KjY8BHRLTA"
      },
      "outputs": [],
      "source": [
        "out = xlmr_model(input_ids.to(device))"
      ]
    },
    {
      "cell_type": "code",
      "execution_count": null,
      "metadata": {
        "colab": {
          "base_uri": "https://localhost:8080/"
        },
        "id": "sliQABNSSNRe",
        "outputId": "eca4fe5d-2e87-4b99-b47d-b42de0985c8f"
      },
      "outputs": [
        {
          "data": {
            "text/plain": [
              "TokenClassifierOutput(loss=None, logits=tensor([[[-0.6063,  0.6641, -0.3277, -0.0939,  0.3452, -0.1897,  0.6844],\n",
              "         [-0.5433,  0.4683, -0.1153, -0.7021, -0.0010,  0.1209,  0.8486],\n",
              "         [-0.5783,  0.6500,  0.0046, -0.5492,  0.0562,  0.0711,  0.7966],\n",
              "         [-0.5613,  0.5617, -0.0157, -0.6082,  0.1497,  0.1694,  0.9321],\n",
              "         [-0.5418,  0.5781, -0.0269, -0.6018,  0.1070,  0.0899,  0.7714],\n",
              "         [-0.4733,  0.5179,  0.0932, -0.6015,  0.1784,  0.2271,  0.6838],\n",
              "         [-0.4439,  0.5719,  0.0111, -0.6726, -0.0106,  0.1545,  0.7259],\n",
              "         [-0.4073,  0.5405, -0.0690, -0.6857,  0.0363,  0.1496,  0.8517],\n",
              "         [-0.3866,  0.5769, -0.0286, -0.6792,  0.1679,  0.1651,  0.7283],\n",
              "         [-0.6176,  0.6374, -0.3135, -0.1513,  0.3912, -0.1744,  0.7378]]],\n",
              "       grad_fn=<ViewBackward0>), hidden_states=None, attentions=None)"
            ]
          },
          "execution_count": 34,
          "metadata": {},
          "output_type": "execute_result"
        }
      ],
      "source": [
        "out"
      ]
    },
    {
      "cell_type": "markdown",
      "metadata": {
        "id": "CCO8OeAtMvAg"
      },
      "source": [
        "Here, we can see that the start <s> and end </s> are given the IDs 0 and 2 respectively."
      ]
    },
    {
      "cell_type": "markdown",
      "metadata": {
        "id": "ZFeSd47aNenp"
      },
      "source": [
        "Let us now pass the inputs to the model and extract the predictions by taking the argmax to get the most likely class per token."
      ]
    },
    {
      "cell_type": "code",
      "execution_count": null,
      "metadata": {
        "id": "foJBbiHdQueG"
      },
      "outputs": [],
      "source": [
        "outputs = out.logits"
      ]
    },
    {
      "cell_type": "code",
      "execution_count": null,
      "metadata": {
        "colab": {
          "base_uri": "https://localhost:8080/"
        },
        "id": "A4Ijy_WEQ_O4",
        "outputId": "730d82a7-27eb-4db3-aaf8-69f99435bc1e"
      },
      "outputs": [
        {
          "data": {
            "text/plain": [
              "tensor([[[-0.6063,  0.6641, -0.3277, -0.0939,  0.3452, -0.1897,  0.6844],\n",
              "         [-0.5433,  0.4683, -0.1153, -0.7021, -0.0010,  0.1209,  0.8486],\n",
              "         [-0.5783,  0.6500,  0.0046, -0.5492,  0.0562,  0.0711,  0.7966],\n",
              "         [-0.5613,  0.5617, -0.0157, -0.6082,  0.1497,  0.1694,  0.9321],\n",
              "         [-0.5418,  0.5781, -0.0269, -0.6018,  0.1070,  0.0899,  0.7714],\n",
              "         [-0.4733,  0.5179,  0.0932, -0.6015,  0.1784,  0.2271,  0.6838],\n",
              "         [-0.4439,  0.5719,  0.0111, -0.6726, -0.0106,  0.1545,  0.7259],\n",
              "         [-0.4073,  0.5405, -0.0690, -0.6857,  0.0363,  0.1496,  0.8517],\n",
              "         [-0.3866,  0.5769, -0.0286, -0.6792,  0.1679,  0.1651,  0.7283],\n",
              "         [-0.6176,  0.6374, -0.3135, -0.1513,  0.3912, -0.1744,  0.7378]]],\n",
              "       grad_fn=<ViewBackward0>)"
            ]
          },
          "execution_count": 36,
          "metadata": {},
          "output_type": "execute_result"
        }
      ],
      "source": [
        "outputs"
      ]
    },
    {
      "cell_type": "code",
      "execution_count": null,
      "metadata": {
        "id": "WbxJXhM-S6rw"
      },
      "outputs": [],
      "source": [
        "#preds = torch.argmax(outputs, dim = 2)"
      ]
    },
    {
      "cell_type": "code",
      "execution_count": null,
      "metadata": {
        "id": "bqLmD7C7S7e0"
      },
      "outputs": [],
      "source": [
        "#preds"
      ]
    },
    {
      "cell_type": "code",
      "execution_count": null,
      "metadata": {
        "colab": {
          "base_uri": "https://localhost:8080/"
        },
        "id": "bhUTumc6SZwA",
        "outputId": "cd07cf96-00b6-4f7b-ab74-be9db84d8eac"
      },
      "outputs": [
        {
          "data": {
            "text/plain": [
              "tensor([[6, 6, 6, 6, 6, 6, 6, 6, 6, 6]])"
            ]
          },
          "execution_count": 39,
          "metadata": {},
          "output_type": "execute_result"
        }
      ],
      "source": [
        "predictions = torch.argmax(outputs, dim = -1)\n",
        "predictions"
      ]
    },
    {
      "cell_type": "code",
      "execution_count": null,
      "metadata": {
        "colab": {
          "base_uri": "https://localhost:8080/"
        },
        "id": "A99HAVDdS9X2",
        "outputId": "7a899768-9de2-45ce-dc31-13a83c02e8a3"
      },
      "outputs": [
        {
          "data": {
            "text/plain": [
              "torch.Size([1, 10, 7])"
            ]
          },
          "execution_count": 40,
          "metadata": {},
          "output_type": "execute_result"
        }
      ],
      "source": [
        "outputs.shape"
      ]
    },
    {
      "cell_type": "code",
      "execution_count": null,
      "metadata": {
        "colab": {
          "base_uri": "https://localhost:8080/"
        },
        "id": "YhRgjgXTXPZ-",
        "outputId": "8737c6ff-4780-42e9-81cd-d7fa0f8a1f86"
      },
      "outputs": [
        {
          "name": "stdout",
          "output_type": "stream",
          "text": [
            "Number of tokens in the sequence: 10\n"
          ]
        }
      ],
      "source": [
        "print(f\"Number of tokens in the sequence: {len(xlmr_tokens)}\")"
      ]
    },
    {
      "cell_type": "code",
      "execution_count": null,
      "metadata": {
        "colab": {
          "base_uri": "https://localhost:8080/"
        },
        "id": "4CUrOeAAWB9-",
        "outputId": "df44c843-0112-420f-b002-e15b7795cc2b"
      },
      "outputs": [
        {
          "name": "stdout",
          "output_type": "stream",
          "text": [
            "Number of predictions:10\n"
          ]
        }
      ],
      "source": [
        "print(f\"Number of predictions:{len(predictions[0])}\")"
      ]
    },
    {
      "cell_type": "code",
      "execution_count": null,
      "metadata": {
        "id": "q2FYsHgXY2N_"
      },
      "outputs": [],
      "source": [
        "final_preds = [tags.names[p] for p in predictions[0].numpy()]"
      ]
    },
    {
      "cell_type": "code",
      "execution_count": null,
      "metadata": {
        "colab": {
          "base_uri": "https://localhost:8080/"
        },
        "id": "m29n0o9QaZzO",
        "outputId": "4e1f617b-6e3b-42e2-ae47-557a652b9033"
      },
      "outputs": [
        {
          "data": {
            "text/plain": [
              "['I-LOC',\n",
              " 'I-LOC',\n",
              " 'I-LOC',\n",
              " 'I-LOC',\n",
              " 'I-LOC',\n",
              " 'I-LOC',\n",
              " 'I-LOC',\n",
              " 'I-LOC',\n",
              " 'I-LOC',\n",
              " 'I-LOC']"
            ]
          },
          "execution_count": 44,
          "metadata": {},
          "output_type": "execute_result"
        }
      ],
      "source": [
        "final_preds"
      ]
    },
    {
      "cell_type": "markdown",
      "metadata": {
        "id": "Hph_nryLa7eh"
      },
      "source": [
        "Very Bad! Our token classification layer with random weights leaves it to perform bad. However, to test in other language text, let us wrap it in a function."
      ]
    },
    {
      "cell_type": "code",
      "execution_count": null,
      "metadata": {
        "id": "do8VyB7-bnIA"
      },
      "outputs": [],
      "source": [
        "def tag_text(text, tags, model, tokenizer):\n",
        "  tokens = tokenizer(text).tokens\n",
        "  input_ids = xlmr_tokenizer(text, return_tensors = 'pt')\n",
        "\n",
        "  # Get prediction over 7 possible classes\n",
        "  outputs = model(input_ids)[0]\n",
        "\n",
        "  #Take argmax to obtain most likely class per token\n",
        "  predictions = torch.argmax(outputs, dim = -1)\n",
        "\n",
        "  # Convert to DataFrame\n",
        "  preds = [tags.names[p] for p in predictions[0].numpy()]\n",
        "  return pd.DataFrame([tokens, preds], index = [\"tokens\", \"Tags\"])\n"
      ]
    },
    {
      "cell_type": "markdown",
      "metadata": {
        "id": "6ps2Nz4lsovC"
      },
      "source": [
        "Let us see how the pre-trained model is working in our train dataset of German."
      ]
    },
    {
      "cell_type": "code",
      "execution_count": null,
      "metadata": {
        "id": "zCKyq7UUtG4t"
      },
      "outputs": [],
      "source": [
        "words, labels = de_example['tokens'], de_example['ner_tags']"
      ]
    },
    {
      "cell_type": "code",
      "execution_count": null,
      "metadata": {
        "colab": {
          "base_uri": "https://localhost:8080/"
        },
        "id": "6CCmjFvZt1jh",
        "outputId": "1ae7d17e-bec2-4007-de81-2769f8bdb81c"
      },
      "outputs": [
        {
          "data": {
            "text/plain": [
              "['als', 'Teil', 'der', 'Savoyer', 'Voralpen', 'im', 'Osten', '.']"
            ]
          },
          "execution_count": 47,
          "metadata": {},
          "output_type": "execute_result"
        }
      ],
      "source": [
        "words"
      ]
    },
    {
      "cell_type": "code",
      "execution_count": null,
      "metadata": {
        "colab": {
          "base_uri": "https://localhost:8080/"
        },
        "id": "T7nafEF4t5s0",
        "outputId": "90b781bb-4779-4dc6-80ec-6c7c78fbd3c2"
      },
      "outputs": [
        {
          "data": {
            "text/plain": [
              "[0, 0, 0, 5, 6, 0, 0, 0]"
            ]
          },
          "execution_count": 48,
          "metadata": {},
          "output_type": "execute_result"
        }
      ],
      "source": [
        "labels"
      ]
    },
    {
      "cell_type": "markdown",
      "metadata": {
        "id": "HYjAh4WFtXbo"
      },
      "source": [
        "Let us check the encoded output of the above row."
      ]
    },
    {
      "cell_type": "code",
      "execution_count": null,
      "metadata": {
        "colab": {
          "base_uri": "https://localhost:8080/"
        },
        "id": "IgqNIbSrrsxW",
        "outputId": "780701d0-6558-46c4-ddb1-e068b7b156a6"
      },
      "outputs": [
        {
          "data": {
            "text/plain": [
              "{'input_ids': [0,\n",
              "  737,\n",
              "  16046,\n",
              "  122,\n",
              "  73829,\n",
              "  8889,\n",
              "  4855,\n",
              "  289,\n",
              "  2278,\n",
              "  566,\n",
              "  180,\n",
              "  2581,\n",
              "  6,\n",
              "  5,\n",
              "  2],\n",
              " 'attention_mask': [1, 1, 1, 1, 1, 1, 1, 1, 1, 1, 1, 1, 1, 1, 1],\n",
              " 'labels': [-100, 0, 0, 0, 5, -100, 6, -100, -100, 0, 0, -100, 0, -100, -100]}"
            ]
          },
          "execution_count": 49,
          "metadata": {},
          "output_type": "execute_result"
        }
      ],
      "source": [
        "encoded = panx_de_encoded['train'][0]\n",
        "encoded"
      ]
    },
    {
      "cell_type": "code",
      "execution_count": null,
      "metadata": {
        "id": "oFP-tIRwufqq"
      },
      "outputs": [],
      "source": [
        "final_tags = [index2tag[l] if l != -100 else 'IGN' for l in panx_de_encoded['train'][0]['labels']]"
      ]
    },
    {
      "cell_type": "markdown",
      "metadata": {
        "id": "1P-8E6XqvdE3"
      },
      "source": [
        "Let us put it in dataframe:"
      ]
    },
    {
      "cell_type": "code",
      "execution_count": null,
      "metadata": {
        "colab": {
          "base_uri": "https://localhost:8080/",
          "height": 206
        },
        "id": "OcsHXtWqvXl0",
        "outputId": "fd4acfa9-7635-45b0-aada-18f6a86508b2"
      },
      "outputs": [
        {
          "data": {
            "application/vnd.google.colaboratory.intrinsic+json": {
              "summary": "{\n  \"name\": \"pd\",\n  \"rows\": 5,\n  \"fields\": [\n    {\n      \"column\": 0,\n      \"properties\": {\n        \"dtype\": \"string\",\n        \"num_unique_values\": 5,\n        \"samples\": [\n          0,\n          \"IGN\",\n          1\n        ],\n        \"semantic_type\": \"\",\n        \"description\": \"\"\n      }\n    },\n    {\n      \"column\": 1,\n      \"properties\": {\n        \"dtype\": \"string\",\n        \"num_unique_values\": 5,\n        \"samples\": [\n          737,\n          \"O\",\n          1\n        ],\n        \"semantic_type\": \"\",\n        \"description\": \"\"\n      }\n    },\n    {\n      \"column\": 2,\n      \"properties\": {\n        \"dtype\": \"string\",\n        \"num_unique_values\": 5,\n        \"samples\": [\n          16046,\n          \"O\",\n          1\n        ],\n        \"semantic_type\": \"\",\n        \"description\": \"\"\n      }\n    },\n    {\n      \"column\": 3,\n      \"properties\": {\n        \"dtype\": \"string\",\n        \"num_unique_values\": 5,\n        \"samples\": [\n          122,\n          \"O\",\n          1\n        ],\n        \"semantic_type\": \"\",\n        \"description\": \"\"\n      }\n    },\n    {\n      \"column\": 4,\n      \"properties\": {\n        \"dtype\": \"string\",\n        \"num_unique_values\": 5,\n        \"samples\": [\n          73829,\n          \"B-LOC\",\n          1\n        ],\n        \"semantic_type\": \"\",\n        \"description\": \"\"\n      }\n    },\n    {\n      \"column\": 5,\n      \"properties\": {\n        \"dtype\": \"string\",\n        \"num_unique_values\": 5,\n        \"samples\": [\n          8889,\n          \"IGN\",\n          1\n        ],\n        \"semantic_type\": \"\",\n        \"description\": \"\"\n      }\n    },\n    {\n      \"column\": 6,\n      \"properties\": {\n        \"dtype\": \"string\",\n        \"num_unique_values\": 5,\n        \"samples\": [\n          4855,\n          \"I-LOC\",\n          1\n        ],\n        \"semantic_type\": \"\",\n        \"description\": \"\"\n      }\n    },\n    {\n      \"column\": 7,\n      \"properties\": {\n        \"dtype\": \"string\",\n        \"num_unique_values\": 5,\n        \"samples\": [\n          289,\n          \"IGN\",\n          1\n        ],\n        \"semantic_type\": \"\",\n        \"description\": \"\"\n      }\n    },\n    {\n      \"column\": 8,\n      \"properties\": {\n        \"dtype\": \"string\",\n        \"num_unique_values\": 4,\n        \"samples\": [\n          1,\n          \"IGN\",\n          2278\n        ],\n        \"semantic_type\": \"\",\n        \"description\": \"\"\n      }\n    },\n    {\n      \"column\": 9,\n      \"properties\": {\n        \"dtype\": \"string\",\n        \"num_unique_values\": 4,\n        \"samples\": [\n          1,\n          \"O\",\n          566\n        ],\n        \"semantic_type\": \"\",\n        \"description\": \"\"\n      }\n    },\n    {\n      \"column\": 10,\n      \"properties\": {\n        \"dtype\": \"string\",\n        \"num_unique_values\": 4,\n        \"samples\": [\n          1,\n          \"O\",\n          180\n        ],\n        \"semantic_type\": \"\",\n        \"description\": \"\"\n      }\n    },\n    {\n      \"column\": 11,\n      \"properties\": {\n        \"dtype\": \"string\",\n        \"num_unique_values\": 4,\n        \"samples\": [\n          1,\n          \"IGN\",\n          2581\n        ],\n        \"semantic_type\": \"\",\n        \"description\": \"\"\n      }\n    },\n    {\n      \"column\": 12,\n      \"properties\": {\n        \"dtype\": \"string\",\n        \"num_unique_values\": 4,\n        \"samples\": [\n          1,\n          \"O\",\n          6\n        ],\n        \"semantic_type\": \"\",\n        \"description\": \"\"\n      }\n    },\n    {\n      \"column\": 13,\n      \"properties\": {\n        \"dtype\": \"string\",\n        \"num_unique_values\": 4,\n        \"samples\": [\n          1,\n          \"IGN\",\n          5\n        ],\n        \"semantic_type\": \"\",\n        \"description\": \"\"\n      }\n    },\n    {\n      \"column\": 14,\n      \"properties\": {\n        \"dtype\": \"string\",\n        \"num_unique_values\": 4,\n        \"samples\": [\n          1,\n          \"IGN\",\n          2\n        ],\n        \"semantic_type\": \"\",\n        \"description\": \"\"\n      }\n    }\n  ]\n}",
              "type": "dataframe"
            },
            "text/html": [
              "\n",
              "  <div id=\"df-f318d3a3-559a-4a10-a457-275fe843972a\" class=\"colab-df-container\">\n",
              "    <div>\n",
              "<style scoped>\n",
              "    .dataframe tbody tr th:only-of-type {\n",
              "        vertical-align: middle;\n",
              "    }\n",
              "\n",
              "    .dataframe tbody tr th {\n",
              "        vertical-align: top;\n",
              "    }\n",
              "\n",
              "    .dataframe thead th {\n",
              "        text-align: right;\n",
              "    }\n",
              "</style>\n",
              "<table border=\"1\" class=\"dataframe\">\n",
              "  <thead>\n",
              "    <tr style=\"text-align: right;\">\n",
              "      <th></th>\n",
              "      <th>0</th>\n",
              "      <th>1</th>\n",
              "      <th>2</th>\n",
              "      <th>3</th>\n",
              "      <th>4</th>\n",
              "      <th>5</th>\n",
              "      <th>6</th>\n",
              "      <th>7</th>\n",
              "      <th>8</th>\n",
              "      <th>9</th>\n",
              "      <th>10</th>\n",
              "      <th>11</th>\n",
              "      <th>12</th>\n",
              "      <th>13</th>\n",
              "      <th>14</th>\n",
              "    </tr>\n",
              "  </thead>\n",
              "  <tbody>\n",
              "    <tr>\n",
              "      <th>words</th>\n",
              "      <td>als</td>\n",
              "      <td>Teil</td>\n",
              "      <td>der</td>\n",
              "      <td>Savoyer</td>\n",
              "      <td>Voralpen</td>\n",
              "      <td>im</td>\n",
              "      <td>Osten</td>\n",
              "      <td>.</td>\n",
              "      <td>None</td>\n",
              "      <td>None</td>\n",
              "      <td>None</td>\n",
              "      <td>None</td>\n",
              "      <td>None</td>\n",
              "      <td>None</td>\n",
              "      <td>None</td>\n",
              "    </tr>\n",
              "    <tr>\n",
              "      <th>input_ids</th>\n",
              "      <td>0</td>\n",
              "      <td>737</td>\n",
              "      <td>16046</td>\n",
              "      <td>122</td>\n",
              "      <td>73829</td>\n",
              "      <td>8889</td>\n",
              "      <td>4855</td>\n",
              "      <td>289</td>\n",
              "      <td>2278</td>\n",
              "      <td>566</td>\n",
              "      <td>180</td>\n",
              "      <td>2581</td>\n",
              "      <td>6</td>\n",
              "      <td>5</td>\n",
              "      <td>2</td>\n",
              "    </tr>\n",
              "    <tr>\n",
              "      <th>attention_mask</th>\n",
              "      <td>1</td>\n",
              "      <td>1</td>\n",
              "      <td>1</td>\n",
              "      <td>1</td>\n",
              "      <td>1</td>\n",
              "      <td>1</td>\n",
              "      <td>1</td>\n",
              "      <td>1</td>\n",
              "      <td>1</td>\n",
              "      <td>1</td>\n",
              "      <td>1</td>\n",
              "      <td>1</td>\n",
              "      <td>1</td>\n",
              "      <td>1</td>\n",
              "      <td>1</td>\n",
              "    </tr>\n",
              "    <tr>\n",
              "      <th>labels</th>\n",
              "      <td>-100</td>\n",
              "      <td>0</td>\n",
              "      <td>0</td>\n",
              "      <td>0</td>\n",
              "      <td>5</td>\n",
              "      <td>-100</td>\n",
              "      <td>6</td>\n",
              "      <td>-100</td>\n",
              "      <td>-100</td>\n",
              "      <td>0</td>\n",
              "      <td>0</td>\n",
              "      <td>-100</td>\n",
              "      <td>0</td>\n",
              "      <td>-100</td>\n",
              "      <td>-100</td>\n",
              "    </tr>\n",
              "    <tr>\n",
              "      <th>tags</th>\n",
              "      <td>IGN</td>\n",
              "      <td>O</td>\n",
              "      <td>O</td>\n",
              "      <td>O</td>\n",
              "      <td>B-LOC</td>\n",
              "      <td>IGN</td>\n",
              "      <td>I-LOC</td>\n",
              "      <td>IGN</td>\n",
              "      <td>IGN</td>\n",
              "      <td>O</td>\n",
              "      <td>O</td>\n",
              "      <td>IGN</td>\n",
              "      <td>O</td>\n",
              "      <td>IGN</td>\n",
              "      <td>IGN</td>\n",
              "    </tr>\n",
              "  </tbody>\n",
              "</table>\n",
              "</div>\n",
              "    <div class=\"colab-df-buttons\">\n",
              "\n",
              "  <div class=\"colab-df-container\">\n",
              "    <button class=\"colab-df-convert\" onclick=\"convertToInteractive('df-f318d3a3-559a-4a10-a457-275fe843972a')\"\n",
              "            title=\"Convert this dataframe to an interactive table.\"\n",
              "            style=\"display:none;\">\n",
              "\n",
              "  <svg xmlns=\"http://www.w3.org/2000/svg\" height=\"24px\" viewBox=\"0 -960 960 960\">\n",
              "    <path d=\"M120-120v-720h720v720H120Zm60-500h600v-160H180v160Zm220 220h160v-160H400v160Zm0 220h160v-160H400v160ZM180-400h160v-160H180v160Zm440 0h160v-160H620v160ZM180-180h160v-160H180v160Zm440 0h160v-160H620v160Z\"/>\n",
              "  </svg>\n",
              "    </button>\n",
              "\n",
              "  <style>\n",
              "    .colab-df-container {\n",
              "      display:flex;\n",
              "      gap: 12px;\n",
              "    }\n",
              "\n",
              "    .colab-df-convert {\n",
              "      background-color: #E8F0FE;\n",
              "      border: none;\n",
              "      border-radius: 50%;\n",
              "      cursor: pointer;\n",
              "      display: none;\n",
              "      fill: #1967D2;\n",
              "      height: 32px;\n",
              "      padding: 0 0 0 0;\n",
              "      width: 32px;\n",
              "    }\n",
              "\n",
              "    .colab-df-convert:hover {\n",
              "      background-color: #E2EBFA;\n",
              "      box-shadow: 0px 1px 2px rgba(60, 64, 67, 0.3), 0px 1px 3px 1px rgba(60, 64, 67, 0.15);\n",
              "      fill: #174EA6;\n",
              "    }\n",
              "\n",
              "    .colab-df-buttons div {\n",
              "      margin-bottom: 4px;\n",
              "    }\n",
              "\n",
              "    [theme=dark] .colab-df-convert {\n",
              "      background-color: #3B4455;\n",
              "      fill: #D2E3FC;\n",
              "    }\n",
              "\n",
              "    [theme=dark] .colab-df-convert:hover {\n",
              "      background-color: #434B5C;\n",
              "      box-shadow: 0px 1px 3px 1px rgba(0, 0, 0, 0.15);\n",
              "      filter: drop-shadow(0px 1px 2px rgba(0, 0, 0, 0.3));\n",
              "      fill: #FFFFFF;\n",
              "    }\n",
              "  </style>\n",
              "\n",
              "    <script>\n",
              "      const buttonEl =\n",
              "        document.querySelector('#df-f318d3a3-559a-4a10-a457-275fe843972a button.colab-df-convert');\n",
              "      buttonEl.style.display =\n",
              "        google.colab.kernel.accessAllowed ? 'block' : 'none';\n",
              "\n",
              "      async function convertToInteractive(key) {\n",
              "        const element = document.querySelector('#df-f318d3a3-559a-4a10-a457-275fe843972a');\n",
              "        const dataTable =\n",
              "          await google.colab.kernel.invokeFunction('convertToInteractive',\n",
              "                                                    [key], {});\n",
              "        if (!dataTable) return;\n",
              "\n",
              "        const docLinkHtml = 'Like what you see? Visit the ' +\n",
              "          '<a target=\"_blank\" href=https://colab.research.google.com/notebooks/data_table.ipynb>data table notebook</a>'\n",
              "          + ' to learn more about interactive tables.';\n",
              "        element.innerHTML = '';\n",
              "        dataTable['output_type'] = 'display_data';\n",
              "        await google.colab.output.renderOutput(dataTable, element);\n",
              "        const docLink = document.createElement('div');\n",
              "        docLink.innerHTML = docLinkHtml;\n",
              "        element.appendChild(docLink);\n",
              "      }\n",
              "    </script>\n",
              "  </div>\n",
              "\n",
              "\n",
              "    <div id=\"df-d2a2c5b9-9a88-43f9-9d57-481da0043dc9\">\n",
              "      <button class=\"colab-df-quickchart\" onclick=\"quickchart('df-d2a2c5b9-9a88-43f9-9d57-481da0043dc9')\"\n",
              "                title=\"Suggest charts\"\n",
              "                style=\"display:none;\">\n",
              "\n",
              "<svg xmlns=\"http://www.w3.org/2000/svg\" height=\"24px\"viewBox=\"0 0 24 24\"\n",
              "     width=\"24px\">\n",
              "    <g>\n",
              "        <path d=\"M19 3H5c-1.1 0-2 .9-2 2v14c0 1.1.9 2 2 2h14c1.1 0 2-.9 2-2V5c0-1.1-.9-2-2-2zM9 17H7v-7h2v7zm4 0h-2V7h2v10zm4 0h-2v-4h2v4z\"/>\n",
              "    </g>\n",
              "</svg>\n",
              "      </button>\n",
              "\n",
              "<style>\n",
              "  .colab-df-quickchart {\n",
              "      --bg-color: #E8F0FE;\n",
              "      --fill-color: #1967D2;\n",
              "      --hover-bg-color: #E2EBFA;\n",
              "      --hover-fill-color: #174EA6;\n",
              "      --disabled-fill-color: #AAA;\n",
              "      --disabled-bg-color: #DDD;\n",
              "  }\n",
              "\n",
              "  [theme=dark] .colab-df-quickchart {\n",
              "      --bg-color: #3B4455;\n",
              "      --fill-color: #D2E3FC;\n",
              "      --hover-bg-color: #434B5C;\n",
              "      --hover-fill-color: #FFFFFF;\n",
              "      --disabled-bg-color: #3B4455;\n",
              "      --disabled-fill-color: #666;\n",
              "  }\n",
              "\n",
              "  .colab-df-quickchart {\n",
              "    background-color: var(--bg-color);\n",
              "    border: none;\n",
              "    border-radius: 50%;\n",
              "    cursor: pointer;\n",
              "    display: none;\n",
              "    fill: var(--fill-color);\n",
              "    height: 32px;\n",
              "    padding: 0;\n",
              "    width: 32px;\n",
              "  }\n",
              "\n",
              "  .colab-df-quickchart:hover {\n",
              "    background-color: var(--hover-bg-color);\n",
              "    box-shadow: 0 1px 2px rgba(60, 64, 67, 0.3), 0 1px 3px 1px rgba(60, 64, 67, 0.15);\n",
              "    fill: var(--button-hover-fill-color);\n",
              "  }\n",
              "\n",
              "  .colab-df-quickchart-complete:disabled,\n",
              "  .colab-df-quickchart-complete:disabled:hover {\n",
              "    background-color: var(--disabled-bg-color);\n",
              "    fill: var(--disabled-fill-color);\n",
              "    box-shadow: none;\n",
              "  }\n",
              "\n",
              "  .colab-df-spinner {\n",
              "    border: 2px solid var(--fill-color);\n",
              "    border-color: transparent;\n",
              "    border-bottom-color: var(--fill-color);\n",
              "    animation:\n",
              "      spin 1s steps(1) infinite;\n",
              "  }\n",
              "\n",
              "  @keyframes spin {\n",
              "    0% {\n",
              "      border-color: transparent;\n",
              "      border-bottom-color: var(--fill-color);\n",
              "      border-left-color: var(--fill-color);\n",
              "    }\n",
              "    20% {\n",
              "      border-color: transparent;\n",
              "      border-left-color: var(--fill-color);\n",
              "      border-top-color: var(--fill-color);\n",
              "    }\n",
              "    30% {\n",
              "      border-color: transparent;\n",
              "      border-left-color: var(--fill-color);\n",
              "      border-top-color: var(--fill-color);\n",
              "      border-right-color: var(--fill-color);\n",
              "    }\n",
              "    40% {\n",
              "      border-color: transparent;\n",
              "      border-right-color: var(--fill-color);\n",
              "      border-top-color: var(--fill-color);\n",
              "    }\n",
              "    60% {\n",
              "      border-color: transparent;\n",
              "      border-right-color: var(--fill-color);\n",
              "    }\n",
              "    80% {\n",
              "      border-color: transparent;\n",
              "      border-right-color: var(--fill-color);\n",
              "      border-bottom-color: var(--fill-color);\n",
              "    }\n",
              "    90% {\n",
              "      border-color: transparent;\n",
              "      border-bottom-color: var(--fill-color);\n",
              "    }\n",
              "  }\n",
              "</style>\n",
              "\n",
              "      <script>\n",
              "        async function quickchart(key) {\n",
              "          const quickchartButtonEl =\n",
              "            document.querySelector('#' + key + ' button');\n",
              "          quickchartButtonEl.disabled = true;  // To prevent multiple clicks.\n",
              "          quickchartButtonEl.classList.add('colab-df-spinner');\n",
              "          try {\n",
              "            const charts = await google.colab.kernel.invokeFunction(\n",
              "                'suggestCharts', [key], {});\n",
              "          } catch (error) {\n",
              "            console.error('Error during call to suggestCharts:', error);\n",
              "          }\n",
              "          quickchartButtonEl.classList.remove('colab-df-spinner');\n",
              "          quickchartButtonEl.classList.add('colab-df-quickchart-complete');\n",
              "        }\n",
              "        (() => {\n",
              "          let quickchartButtonEl =\n",
              "            document.querySelector('#df-d2a2c5b9-9a88-43f9-9d57-481da0043dc9 button');\n",
              "          quickchartButtonEl.style.display =\n",
              "            google.colab.kernel.accessAllowed ? 'block' : 'none';\n",
              "        })();\n",
              "      </script>\n",
              "    </div>\n",
              "\n",
              "    </div>\n",
              "  </div>\n"
            ],
            "text/plain": [
              "                  0     1      2        3         4     5      6     7     8   \\\n",
              "words            als  Teil    der  Savoyer  Voralpen    im  Osten     .  None   \n",
              "input_ids          0   737  16046      122     73829  8889   4855   289  2278   \n",
              "attention_mask     1     1      1        1         1     1      1     1     1   \n",
              "labels          -100     0      0        0         5  -100      6  -100  -100   \n",
              "tags             IGN     O      O        O     B-LOC   IGN  I-LOC   IGN   IGN   \n",
              "\n",
              "                  9     10    11    12    13    14  \n",
              "words           None  None  None  None  None  None  \n",
              "input_ids        566   180  2581     6     5     2  \n",
              "attention_mask     1     1     1     1     1     1  \n",
              "labels             0     0  -100     0  -100  -100  \n",
              "tags               O     O   IGN     O   IGN   IGN  "
            ]
          },
          "execution_count": 51,
          "metadata": {},
          "output_type": "execute_result"
        }
      ],
      "source": [
        "pd.DataFrame([words, encoded['input_ids'], encoded['attention_mask'], encoded['labels'], final_tags], index = ['words', 'input_ids', 'attention_mask', 'labels', 'tags'])"
      ]
    },
    {
      "cell_type": "markdown",
      "metadata": {
        "id": "B-O-CE7G1E5W"
      },
      "source": [
        "Let us do this for English train set (first row)"
      ]
    },
    {
      "cell_type": "code",
      "execution_count": null,
      "metadata": {
        "colab": {
          "base_uri": "https://localhost:8080/"
        },
        "id": "RSvZXF191D18",
        "outputId": "fd385d83-7e6b-407c-d320-2fe23059a280"
      },
      "outputs": [
        {
          "data": {
            "text/plain": [
              "{'tokens': ['R.H.',\n",
              "  'Saunders',\n",
              "  '(',\n",
              "  'St.',\n",
              "  'Lawrence',\n",
              "  'River',\n",
              "  ')',\n",
              "  '(',\n",
              "  '968',\n",
              "  'MW',\n",
              "  ')'],\n",
              " 'ner_tags': [3, 4, 0, 3, 4, 4, 0, 0, 0, 0, 0],\n",
              " 'langs': ['en', 'en', 'en', 'en', 'en', 'en', 'en', 'en', 'en', 'en', 'en']}"
            ]
          },
          "execution_count": 52,
          "metadata": {},
          "output_type": "execute_result"
        }
      ],
      "source": [
        "panx_ch['en'][\"train\"][0]"
      ]
    },
    {
      "cell_type": "code",
      "execution_count": null,
      "metadata": {
        "colab": {
          "base_uri": "https://localhost:8080/"
        },
        "id": "ilsj0d5N1rU-",
        "outputId": "7935dd05-8973-483b-9863-b09cb9c32a0a"
      },
      "outputs": [
        {
          "data": {
            "text/plain": [
              "{'input_ids': [0,\n",
              "  627,\n",
              "  5,\n",
              "  841,\n",
              "  5,\n",
              "  947,\n",
              "  24658,\n",
              "  7,\n",
              "  15,\n",
              "  2907,\n",
              "  5,\n",
              "  155484,\n",
              "  32547,\n",
              "  1388,\n",
              "  15,\n",
              "  483,\n",
              "  16028,\n",
              "  46298,\n",
              "  1388,\n",
              "  2],\n",
              " 'attention_mask': [1,\n",
              "  1,\n",
              "  1,\n",
              "  1,\n",
              "  1,\n",
              "  1,\n",
              "  1,\n",
              "  1,\n",
              "  1,\n",
              "  1,\n",
              "  1,\n",
              "  1,\n",
              "  1,\n",
              "  1,\n",
              "  1,\n",
              "  1,\n",
              "  1,\n",
              "  1,\n",
              "  1,\n",
              "  1],\n",
              " 'labels': [-100,\n",
              "  3,\n",
              "  -100,\n",
              "  -100,\n",
              "  -100,\n",
              "  4,\n",
              "  -100,\n",
              "  -100,\n",
              "  0,\n",
              "  3,\n",
              "  -100,\n",
              "  4,\n",
              "  4,\n",
              "  0,\n",
              "  0,\n",
              "  0,\n",
              "  -100,\n",
              "  0,\n",
              "  0,\n",
              "  -100]}"
            ]
          },
          "execution_count": 53,
          "metadata": {},
          "output_type": "execute_result"
        }
      ],
      "source": [
        "encoded_en = panx_en_encoded['train'][0]\n",
        "encoded_en"
      ]
    },
    {
      "cell_type": "code",
      "execution_count": null,
      "metadata": {
        "id": "Mcxk933B1-93"
      },
      "outputs": [],
      "source": [
        "final_tags_en = [index2tag[l] if l != -100 else 'IGN' for l in encoded_en['labels']]"
      ]
    },
    {
      "cell_type": "code",
      "execution_count": null,
      "metadata": {
        "colab": {
          "base_uri": "https://localhost:8080/",
          "height": 206
        },
        "id": "mRpWcSz42gWq",
        "outputId": "ca96cd61-2ebc-4c6a-e048-c38139f13349"
      },
      "outputs": [
        {
          "data": {
            "application/vnd.google.colaboratory.intrinsic+json": {
              "summary": "{\n  \"name\": \"pd\",\n  \"rows\": 5,\n  \"fields\": [\n    {\n      \"column\": 0,\n      \"properties\": {\n        \"dtype\": \"string\",\n        \"num_unique_values\": 5,\n        \"samples\": [\n          0,\n          \"IGN\",\n          1\n        ],\n        \"semantic_type\": \"\",\n        \"description\": \"\"\n      }\n    },\n    {\n      \"column\": 1,\n      \"properties\": {\n        \"dtype\": \"string\",\n        \"num_unique_values\": 5,\n        \"samples\": [\n          627,\n          \"B-ORG\",\n          1\n        ],\n        \"semantic_type\": \"\",\n        \"description\": \"\"\n      }\n    },\n    {\n      \"column\": 2,\n      \"properties\": {\n        \"dtype\": \"string\",\n        \"num_unique_values\": 5,\n        \"samples\": [\n          5,\n          \"IGN\",\n          1\n        ],\n        \"semantic_type\": \"\",\n        \"description\": \"\"\n      }\n    },\n    {\n      \"column\": 3,\n      \"properties\": {\n        \"dtype\": \"string\",\n        \"num_unique_values\": 5,\n        \"samples\": [\n          841,\n          \"IGN\",\n          1\n        ],\n        \"semantic_type\": \"\",\n        \"description\": \"\"\n      }\n    },\n    {\n      \"column\": 4,\n      \"properties\": {\n        \"dtype\": \"string\",\n        \"num_unique_values\": 5,\n        \"samples\": [\n          5,\n          \"IGN\",\n          1\n        ],\n        \"semantic_type\": \"\",\n        \"description\": \"\"\n      }\n    },\n    {\n      \"column\": 5,\n      \"properties\": {\n        \"dtype\": \"string\",\n        \"num_unique_values\": 5,\n        \"samples\": [\n          947,\n          \"I-ORG\",\n          1\n        ],\n        \"semantic_type\": \"\",\n        \"description\": \"\"\n      }\n    },\n    {\n      \"column\": 6,\n      \"properties\": {\n        \"dtype\": \"string\",\n        \"num_unique_values\": 5,\n        \"samples\": [\n          24658,\n          \"IGN\",\n          1\n        ],\n        \"semantic_type\": \"\",\n        \"description\": \"\"\n      }\n    },\n    {\n      \"column\": 7,\n      \"properties\": {\n        \"dtype\": \"string\",\n        \"num_unique_values\": 5,\n        \"samples\": [\n          7,\n          \"IGN\",\n          1\n        ],\n        \"semantic_type\": \"\",\n        \"description\": \"\"\n      }\n    },\n    {\n      \"column\": 8,\n      \"properties\": {\n        \"dtype\": \"string\",\n        \"num_unique_values\": 5,\n        \"samples\": [\n          15,\n          \"O\",\n          1\n        ],\n        \"semantic_type\": \"\",\n        \"description\": \"\"\n      }\n    },\n    {\n      \"column\": 9,\n      \"properties\": {\n        \"dtype\": \"string\",\n        \"num_unique_values\": 5,\n        \"samples\": [\n          2907,\n          \"B-ORG\",\n          1\n        ],\n        \"semantic_type\": \"\",\n        \"description\": \"\"\n      }\n    },\n    {\n      \"column\": 10,\n      \"properties\": {\n        \"dtype\": \"string\",\n        \"num_unique_values\": 5,\n        \"samples\": [\n          5,\n          \"IGN\",\n          1\n        ],\n        \"semantic_type\": \"\",\n        \"description\": \"\"\n      }\n    },\n    {\n      \"column\": 11,\n      \"properties\": {\n        \"dtype\": \"string\",\n        \"num_unique_values\": 4,\n        \"samples\": [\n          1,\n          \"I-ORG\",\n          155484\n        ],\n        \"semantic_type\": \"\",\n        \"description\": \"\"\n      }\n    },\n    {\n      \"column\": 12,\n      \"properties\": {\n        \"dtype\": \"string\",\n        \"num_unique_values\": 4,\n        \"samples\": [\n          1,\n          \"I-ORG\",\n          32547\n        ],\n        \"semantic_type\": \"\",\n        \"description\": \"\"\n      }\n    },\n    {\n      \"column\": 13,\n      \"properties\": {\n        \"dtype\": \"string\",\n        \"num_unique_values\": 4,\n        \"samples\": [\n          1,\n          \"O\",\n          1388\n        ],\n        \"semantic_type\": \"\",\n        \"description\": \"\"\n      }\n    },\n    {\n      \"column\": 14,\n      \"properties\": {\n        \"dtype\": \"string\",\n        \"num_unique_values\": 4,\n        \"samples\": [\n          1,\n          \"O\",\n          15\n        ],\n        \"semantic_type\": \"\",\n        \"description\": \"\"\n      }\n    },\n    {\n      \"column\": 15,\n      \"properties\": {\n        \"dtype\": \"string\",\n        \"num_unique_values\": 4,\n        \"samples\": [\n          1,\n          \"O\",\n          483\n        ],\n        \"semantic_type\": \"\",\n        \"description\": \"\"\n      }\n    },\n    {\n      \"column\": 16,\n      \"properties\": {\n        \"dtype\": \"string\",\n        \"num_unique_values\": 4,\n        \"samples\": [\n          1,\n          \"IGN\",\n          16028\n        ],\n        \"semantic_type\": \"\",\n        \"description\": \"\"\n      }\n    },\n    {\n      \"column\": 17,\n      \"properties\": {\n        \"dtype\": \"string\",\n        \"num_unique_values\": 4,\n        \"samples\": [\n          1,\n          \"O\",\n          46298\n        ],\n        \"semantic_type\": \"\",\n        \"description\": \"\"\n      }\n    },\n    {\n      \"column\": 18,\n      \"properties\": {\n        \"dtype\": \"string\",\n        \"num_unique_values\": 4,\n        \"samples\": [\n          1,\n          \"O\",\n          1388\n        ],\n        \"semantic_type\": \"\",\n        \"description\": \"\"\n      }\n    },\n    {\n      \"column\": 19,\n      \"properties\": {\n        \"dtype\": \"string\",\n        \"num_unique_values\": 4,\n        \"samples\": [\n          1,\n          \"IGN\",\n          2\n        ],\n        \"semantic_type\": \"\",\n        \"description\": \"\"\n      }\n    }\n  ]\n}",
              "type": "dataframe"
            },
            "text/html": [
              "\n",
              "  <div id=\"df-8bf96d3d-242a-4a75-82a8-31df6bd35d7f\" class=\"colab-df-container\">\n",
              "    <div>\n",
              "<style scoped>\n",
              "    .dataframe tbody tr th:only-of-type {\n",
              "        vertical-align: middle;\n",
              "    }\n",
              "\n",
              "    .dataframe tbody tr th {\n",
              "        vertical-align: top;\n",
              "    }\n",
              "\n",
              "    .dataframe thead th {\n",
              "        text-align: right;\n",
              "    }\n",
              "</style>\n",
              "<table border=\"1\" class=\"dataframe\">\n",
              "  <thead>\n",
              "    <tr style=\"text-align: right;\">\n",
              "      <th></th>\n",
              "      <th>0</th>\n",
              "      <th>1</th>\n",
              "      <th>2</th>\n",
              "      <th>3</th>\n",
              "      <th>4</th>\n",
              "      <th>5</th>\n",
              "      <th>6</th>\n",
              "      <th>7</th>\n",
              "      <th>8</th>\n",
              "      <th>9</th>\n",
              "      <th>10</th>\n",
              "      <th>11</th>\n",
              "      <th>12</th>\n",
              "      <th>13</th>\n",
              "      <th>14</th>\n",
              "      <th>15</th>\n",
              "      <th>16</th>\n",
              "      <th>17</th>\n",
              "      <th>18</th>\n",
              "      <th>19</th>\n",
              "    </tr>\n",
              "  </thead>\n",
              "  <tbody>\n",
              "    <tr>\n",
              "      <th>words</th>\n",
              "      <td>R.H.</td>\n",
              "      <td>Saunders</td>\n",
              "      <td>(</td>\n",
              "      <td>St.</td>\n",
              "      <td>Lawrence</td>\n",
              "      <td>River</td>\n",
              "      <td>)</td>\n",
              "      <td>(</td>\n",
              "      <td>968</td>\n",
              "      <td>MW</td>\n",
              "      <td>)</td>\n",
              "      <td>None</td>\n",
              "      <td>None</td>\n",
              "      <td>None</td>\n",
              "      <td>None</td>\n",
              "      <td>None</td>\n",
              "      <td>None</td>\n",
              "      <td>None</td>\n",
              "      <td>None</td>\n",
              "      <td>None</td>\n",
              "    </tr>\n",
              "    <tr>\n",
              "      <th>input_ids</th>\n",
              "      <td>0</td>\n",
              "      <td>627</td>\n",
              "      <td>5</td>\n",
              "      <td>841</td>\n",
              "      <td>5</td>\n",
              "      <td>947</td>\n",
              "      <td>24658</td>\n",
              "      <td>7</td>\n",
              "      <td>15</td>\n",
              "      <td>2907</td>\n",
              "      <td>5</td>\n",
              "      <td>155484</td>\n",
              "      <td>32547</td>\n",
              "      <td>1388</td>\n",
              "      <td>15</td>\n",
              "      <td>483</td>\n",
              "      <td>16028</td>\n",
              "      <td>46298</td>\n",
              "      <td>1388</td>\n",
              "      <td>2</td>\n",
              "    </tr>\n",
              "    <tr>\n",
              "      <th>attention_mask</th>\n",
              "      <td>1</td>\n",
              "      <td>1</td>\n",
              "      <td>1</td>\n",
              "      <td>1</td>\n",
              "      <td>1</td>\n",
              "      <td>1</td>\n",
              "      <td>1</td>\n",
              "      <td>1</td>\n",
              "      <td>1</td>\n",
              "      <td>1</td>\n",
              "      <td>1</td>\n",
              "      <td>1</td>\n",
              "      <td>1</td>\n",
              "      <td>1</td>\n",
              "      <td>1</td>\n",
              "      <td>1</td>\n",
              "      <td>1</td>\n",
              "      <td>1</td>\n",
              "      <td>1</td>\n",
              "      <td>1</td>\n",
              "    </tr>\n",
              "    <tr>\n",
              "      <th>labels</th>\n",
              "      <td>-100</td>\n",
              "      <td>3</td>\n",
              "      <td>-100</td>\n",
              "      <td>-100</td>\n",
              "      <td>-100</td>\n",
              "      <td>4</td>\n",
              "      <td>-100</td>\n",
              "      <td>-100</td>\n",
              "      <td>0</td>\n",
              "      <td>3</td>\n",
              "      <td>-100</td>\n",
              "      <td>4</td>\n",
              "      <td>4</td>\n",
              "      <td>0</td>\n",
              "      <td>0</td>\n",
              "      <td>0</td>\n",
              "      <td>-100</td>\n",
              "      <td>0</td>\n",
              "      <td>0</td>\n",
              "      <td>-100</td>\n",
              "    </tr>\n",
              "    <tr>\n",
              "      <th>tags</th>\n",
              "      <td>IGN</td>\n",
              "      <td>B-ORG</td>\n",
              "      <td>IGN</td>\n",
              "      <td>IGN</td>\n",
              "      <td>IGN</td>\n",
              "      <td>I-ORG</td>\n",
              "      <td>IGN</td>\n",
              "      <td>IGN</td>\n",
              "      <td>O</td>\n",
              "      <td>B-ORG</td>\n",
              "      <td>IGN</td>\n",
              "      <td>I-ORG</td>\n",
              "      <td>I-ORG</td>\n",
              "      <td>O</td>\n",
              "      <td>O</td>\n",
              "      <td>O</td>\n",
              "      <td>IGN</td>\n",
              "      <td>O</td>\n",
              "      <td>O</td>\n",
              "      <td>IGN</td>\n",
              "    </tr>\n",
              "  </tbody>\n",
              "</table>\n",
              "</div>\n",
              "    <div class=\"colab-df-buttons\">\n",
              "\n",
              "  <div class=\"colab-df-container\">\n",
              "    <button class=\"colab-df-convert\" onclick=\"convertToInteractive('df-8bf96d3d-242a-4a75-82a8-31df6bd35d7f')\"\n",
              "            title=\"Convert this dataframe to an interactive table.\"\n",
              "            style=\"display:none;\">\n",
              "\n",
              "  <svg xmlns=\"http://www.w3.org/2000/svg\" height=\"24px\" viewBox=\"0 -960 960 960\">\n",
              "    <path d=\"M120-120v-720h720v720H120Zm60-500h600v-160H180v160Zm220 220h160v-160H400v160Zm0 220h160v-160H400v160ZM180-400h160v-160H180v160Zm440 0h160v-160H620v160ZM180-180h160v-160H180v160Zm440 0h160v-160H620v160Z\"/>\n",
              "  </svg>\n",
              "    </button>\n",
              "\n",
              "  <style>\n",
              "    .colab-df-container {\n",
              "      display:flex;\n",
              "      gap: 12px;\n",
              "    }\n",
              "\n",
              "    .colab-df-convert {\n",
              "      background-color: #E8F0FE;\n",
              "      border: none;\n",
              "      border-radius: 50%;\n",
              "      cursor: pointer;\n",
              "      display: none;\n",
              "      fill: #1967D2;\n",
              "      height: 32px;\n",
              "      padding: 0 0 0 0;\n",
              "      width: 32px;\n",
              "    }\n",
              "\n",
              "    .colab-df-convert:hover {\n",
              "      background-color: #E2EBFA;\n",
              "      box-shadow: 0px 1px 2px rgba(60, 64, 67, 0.3), 0px 1px 3px 1px rgba(60, 64, 67, 0.15);\n",
              "      fill: #174EA6;\n",
              "    }\n",
              "\n",
              "    .colab-df-buttons div {\n",
              "      margin-bottom: 4px;\n",
              "    }\n",
              "\n",
              "    [theme=dark] .colab-df-convert {\n",
              "      background-color: #3B4455;\n",
              "      fill: #D2E3FC;\n",
              "    }\n",
              "\n",
              "    [theme=dark] .colab-df-convert:hover {\n",
              "      background-color: #434B5C;\n",
              "      box-shadow: 0px 1px 3px 1px rgba(0, 0, 0, 0.15);\n",
              "      filter: drop-shadow(0px 1px 2px rgba(0, 0, 0, 0.3));\n",
              "      fill: #FFFFFF;\n",
              "    }\n",
              "  </style>\n",
              "\n",
              "    <script>\n",
              "      const buttonEl =\n",
              "        document.querySelector('#df-8bf96d3d-242a-4a75-82a8-31df6bd35d7f button.colab-df-convert');\n",
              "      buttonEl.style.display =\n",
              "        google.colab.kernel.accessAllowed ? 'block' : 'none';\n",
              "\n",
              "      async function convertToInteractive(key) {\n",
              "        const element = document.querySelector('#df-8bf96d3d-242a-4a75-82a8-31df6bd35d7f');\n",
              "        const dataTable =\n",
              "          await google.colab.kernel.invokeFunction('convertToInteractive',\n",
              "                                                    [key], {});\n",
              "        if (!dataTable) return;\n",
              "\n",
              "        const docLinkHtml = 'Like what you see? Visit the ' +\n",
              "          '<a target=\"_blank\" href=https://colab.research.google.com/notebooks/data_table.ipynb>data table notebook</a>'\n",
              "          + ' to learn more about interactive tables.';\n",
              "        element.innerHTML = '';\n",
              "        dataTable['output_type'] = 'display_data';\n",
              "        await google.colab.output.renderOutput(dataTable, element);\n",
              "        const docLink = document.createElement('div');\n",
              "        docLink.innerHTML = docLinkHtml;\n",
              "        element.appendChild(docLink);\n",
              "      }\n",
              "    </script>\n",
              "  </div>\n",
              "\n",
              "\n",
              "    <div id=\"df-d12fcf71-7fc6-4691-8b02-a88861a4987b\">\n",
              "      <button class=\"colab-df-quickchart\" onclick=\"quickchart('df-d12fcf71-7fc6-4691-8b02-a88861a4987b')\"\n",
              "                title=\"Suggest charts\"\n",
              "                style=\"display:none;\">\n",
              "\n",
              "<svg xmlns=\"http://www.w3.org/2000/svg\" height=\"24px\"viewBox=\"0 0 24 24\"\n",
              "     width=\"24px\">\n",
              "    <g>\n",
              "        <path d=\"M19 3H5c-1.1 0-2 .9-2 2v14c0 1.1.9 2 2 2h14c1.1 0 2-.9 2-2V5c0-1.1-.9-2-2-2zM9 17H7v-7h2v7zm4 0h-2V7h2v10zm4 0h-2v-4h2v4z\"/>\n",
              "    </g>\n",
              "</svg>\n",
              "      </button>\n",
              "\n",
              "<style>\n",
              "  .colab-df-quickchart {\n",
              "      --bg-color: #E8F0FE;\n",
              "      --fill-color: #1967D2;\n",
              "      --hover-bg-color: #E2EBFA;\n",
              "      --hover-fill-color: #174EA6;\n",
              "      --disabled-fill-color: #AAA;\n",
              "      --disabled-bg-color: #DDD;\n",
              "  }\n",
              "\n",
              "  [theme=dark] .colab-df-quickchart {\n",
              "      --bg-color: #3B4455;\n",
              "      --fill-color: #D2E3FC;\n",
              "      --hover-bg-color: #434B5C;\n",
              "      --hover-fill-color: #FFFFFF;\n",
              "      --disabled-bg-color: #3B4455;\n",
              "      --disabled-fill-color: #666;\n",
              "  }\n",
              "\n",
              "  .colab-df-quickchart {\n",
              "    background-color: var(--bg-color);\n",
              "    border: none;\n",
              "    border-radius: 50%;\n",
              "    cursor: pointer;\n",
              "    display: none;\n",
              "    fill: var(--fill-color);\n",
              "    height: 32px;\n",
              "    padding: 0;\n",
              "    width: 32px;\n",
              "  }\n",
              "\n",
              "  .colab-df-quickchart:hover {\n",
              "    background-color: var(--hover-bg-color);\n",
              "    box-shadow: 0 1px 2px rgba(60, 64, 67, 0.3), 0 1px 3px 1px rgba(60, 64, 67, 0.15);\n",
              "    fill: var(--button-hover-fill-color);\n",
              "  }\n",
              "\n",
              "  .colab-df-quickchart-complete:disabled,\n",
              "  .colab-df-quickchart-complete:disabled:hover {\n",
              "    background-color: var(--disabled-bg-color);\n",
              "    fill: var(--disabled-fill-color);\n",
              "    box-shadow: none;\n",
              "  }\n",
              "\n",
              "  .colab-df-spinner {\n",
              "    border: 2px solid var(--fill-color);\n",
              "    border-color: transparent;\n",
              "    border-bottom-color: var(--fill-color);\n",
              "    animation:\n",
              "      spin 1s steps(1) infinite;\n",
              "  }\n",
              "\n",
              "  @keyframes spin {\n",
              "    0% {\n",
              "      border-color: transparent;\n",
              "      border-bottom-color: var(--fill-color);\n",
              "      border-left-color: var(--fill-color);\n",
              "    }\n",
              "    20% {\n",
              "      border-color: transparent;\n",
              "      border-left-color: var(--fill-color);\n",
              "      border-top-color: var(--fill-color);\n",
              "    }\n",
              "    30% {\n",
              "      border-color: transparent;\n",
              "      border-left-color: var(--fill-color);\n",
              "      border-top-color: var(--fill-color);\n",
              "      border-right-color: var(--fill-color);\n",
              "    }\n",
              "    40% {\n",
              "      border-color: transparent;\n",
              "      border-right-color: var(--fill-color);\n",
              "      border-top-color: var(--fill-color);\n",
              "    }\n",
              "    60% {\n",
              "      border-color: transparent;\n",
              "      border-right-color: var(--fill-color);\n",
              "    }\n",
              "    80% {\n",
              "      border-color: transparent;\n",
              "      border-right-color: var(--fill-color);\n",
              "      border-bottom-color: var(--fill-color);\n",
              "    }\n",
              "    90% {\n",
              "      border-color: transparent;\n",
              "      border-bottom-color: var(--fill-color);\n",
              "    }\n",
              "  }\n",
              "</style>\n",
              "\n",
              "      <script>\n",
              "        async function quickchart(key) {\n",
              "          const quickchartButtonEl =\n",
              "            document.querySelector('#' + key + ' button');\n",
              "          quickchartButtonEl.disabled = true;  // To prevent multiple clicks.\n",
              "          quickchartButtonEl.classList.add('colab-df-spinner');\n",
              "          try {\n",
              "            const charts = await google.colab.kernel.invokeFunction(\n",
              "                'suggestCharts', [key], {});\n",
              "          } catch (error) {\n",
              "            console.error('Error during call to suggestCharts:', error);\n",
              "          }\n",
              "          quickchartButtonEl.classList.remove('colab-df-spinner');\n",
              "          quickchartButtonEl.classList.add('colab-df-quickchart-complete');\n",
              "        }\n",
              "        (() => {\n",
              "          let quickchartButtonEl =\n",
              "            document.querySelector('#df-d12fcf71-7fc6-4691-8b02-a88861a4987b button');\n",
              "          quickchartButtonEl.style.display =\n",
              "            google.colab.kernel.accessAllowed ? 'block' : 'none';\n",
              "        })();\n",
              "      </script>\n",
              "    </div>\n",
              "\n",
              "    </div>\n",
              "  </div>\n"
            ],
            "text/plain": [
              "                  0         1     2     3         4      5      6     7    8   \\\n",
              "words           R.H.  Saunders     (   St.  Lawrence  River      )     (  968   \n",
              "input_ids          0       627     5   841         5    947  24658     7   15   \n",
              "attention_mask     1         1     1     1         1      1      1     1    1   \n",
              "labels          -100         3  -100  -100      -100      4   -100  -100    0   \n",
              "tags             IGN     B-ORG   IGN   IGN       IGN  I-ORG    IGN   IGN    O   \n",
              "\n",
              "                   9     10      11     12    13    14    15     16     17  \\\n",
              "words              MW     )    None   None  None  None  None   None   None   \n",
              "input_ids        2907     5  155484  32547  1388    15   483  16028  46298   \n",
              "attention_mask      1     1       1      1     1     1     1      1      1   \n",
              "labels              3  -100       4      4     0     0     0   -100      0   \n",
              "tags            B-ORG   IGN   I-ORG  I-ORG     O     O     O    IGN      O   \n",
              "\n",
              "                  18    19  \n",
              "words           None  None  \n",
              "input_ids       1388     2  \n",
              "attention_mask     1     1  \n",
              "labels             0  -100  \n",
              "tags               O   IGN  "
            ]
          },
          "execution_count": 55,
          "metadata": {},
          "output_type": "execute_result"
        }
      ],
      "source": [
        "pd.DataFrame([panx_ch['en'][\"train\"][0]['tokens'], encoded_en['input_ids'], encoded_en['attention_mask'], encoded_en['labels'], final_tags_en], index = ['words', 'input_ids', 'attention_mask', 'labels', 'tags'])"
      ]
    },
    {
      "cell_type": "markdown",
      "metadata": {
        "id": "QKL-zXu73zDJ"
      },
      "source": [
        "From the output, one can see that the model is not efficiently predicting. Let us fine tune our model."
      ]
    },
    {
      "cell_type": "code",
      "execution_count": null,
      "metadata": {
        "id": "Aoia7y6ujNlJ"
      },
      "outputs": [],
      "source": [
        "from transformers import XLMRobertaForTokenClassification\n",
        "def model_init():\n",
        "  return (XLMRobertaForTokenClassification.from_pretrained(xlmr_model_name, config = xlmr_config)).to(device)"
      ]
    },
    {
      "cell_type": "code",
      "execution_count": null,
      "metadata": {
        "id": "YBnzcwSp1BcU"
      },
      "outputs": [],
      "source": [
        "from transformers import TrainingArguments\n",
        "\n",
        "num_epochs = 3\n",
        "batch_size = 24\n",
        "logging_steps = len(panx_de_encoded[\"train\"])//batch_size\n",
        "model_name = f\"{xlmr_model_name}-finetuned-panx-de\" # It'll be our ouput directory\n",
        "training_args = TrainingArguments(output_dir = model_name,\n",
        "                                  log_level = \"error\",\n",
        "                                  num_train_epochs = num_epochs,\n",
        "                                  per_device_train_batch_size = batch_size,\n",
        "                                  per_device_eval_batch_size = batch_size,\n",
        "                                  eval_strategy = \"epoch\",\n",
        "                                  save_steps = 1e6, # We kept this steps to high number to spped up the training process\n",
        "                                  weight_decay = 0.01,\n",
        "                                  disable_tqdm = False,\n",
        "                                  logging_steps = logging_steps,\n",
        "                                  push_to_hub = False)"
      ]
    },
    {
      "cell_type": "markdown",
      "metadata": {
        "id": "uapEw72-nO2n"
      },
      "source": [
        "## **Data Collator** <br>\n",
        "With the \"data collator\" we can pad each input sequence to the largest sequence length in a batch. For this we'll use Hugging face's DataColllatorForTokenClassification method."
      ]
    },
    {
      "cell_type": "code",
      "execution_count": null,
      "metadata": {
        "id": "IbH7mkDWoqw9"
      },
      "outputs": [],
      "source": [
        "from transformers import DataCollatorForTokenClassification\n",
        "data_collator = DataCollatorForTokenClassification(tokenizer = xlmr_tokenizer, padding = True, label_pad_token_id = -100, return_tensors = 'pt')"
      ]
    },
    {
      "cell_type": "markdown",
      "metadata": {
        "id": "puZulTCrhGen"
      },
      "source": [
        "## **Evaluation metrics**\n",
        "\n",
        "The token classification performance being a classification problem will be evailuated by calculating Recall, Precison and f1-score. To carry out this job, we'll use **seqeval** library."
      ]
    },
    {
      "cell_type": "code",
      "execution_count": null,
      "metadata": {
        "colab": {
          "base_uri": "https://localhost:8080/"
        },
        "id": "PwrFVgDQhURX",
        "outputId": "1a8389e2-6401-43ec-8c16-9d4eb4991629"
      },
      "outputs": [
        {
          "name": "stdout",
          "output_type": "stream",
          "text": [
            "Collecting seqeval\n",
            "  Downloading seqeval-1.2.2.tar.gz (43 kB)\n",
            "\u001b[?25l     \u001b[90m━━━━━━━━━━━━━━━━━━━━━━━━━━━━━━━━━━━━━━━━\u001b[0m \u001b[32m0.0/43.6 kB\u001b[0m \u001b[31m?\u001b[0m eta \u001b[36m-:--:--\u001b[0m\r",
            "\u001b[2K     \u001b[90m━━━━━━━━━━━━━━━━━━━━━━━━━━━━━━━━━━━━━━━━\u001b[0m \u001b[32m43.6/43.6 kB\u001b[0m \u001b[31m2.4 MB/s\u001b[0m eta \u001b[36m0:00:00\u001b[0m\n",
            "\u001b[?25h  Preparing metadata (setup.py) ... \u001b[?25l\u001b[?25hdone\n",
            "Requirement already satisfied: numpy>=1.14.0 in /usr/local/lib/python3.12/dist-packages (from seqeval) (2.0.2)\n",
            "Requirement already satisfied: scikit-learn>=0.21.3 in /usr/local/lib/python3.12/dist-packages (from seqeval) (1.6.1)\n",
            "Requirement already satisfied: scipy>=1.6.0 in /usr/local/lib/python3.12/dist-packages (from scikit-learn>=0.21.3->seqeval) (1.16.1)\n",
            "Requirement already satisfied: joblib>=1.2.0 in /usr/local/lib/python3.12/dist-packages (from scikit-learn>=0.21.3->seqeval) (1.5.1)\n",
            "Requirement already satisfied: threadpoolctl>=3.1.0 in /usr/local/lib/python3.12/dist-packages (from scikit-learn>=0.21.3->seqeval) (3.6.0)\n",
            "Building wheels for collected packages: seqeval\n",
            "  Building wheel for seqeval (setup.py) ... \u001b[?25l\u001b[?25hdone\n",
            "  Created wheel for seqeval: filename=seqeval-1.2.2-py3-none-any.whl size=16162 sha256=99b29e2273d420541d3ea82f9f7c4368dcdd8c110ede52f9288f7a8db1cd7f60\n",
            "  Stored in directory: /root/.cache/pip/wheels/5f/b8/73/0b2c1a76b701a677653dd79ece07cfabd7457989dbfbdcd8d7\n",
            "Successfully built seqeval\n",
            "Installing collected packages: seqeval\n",
            "Successfully installed seqeval-1.2.2\n"
          ]
        }
      ],
      "source": [
        "!pip install seqeval"
      ]
    },
    {
      "cell_type": "code",
      "execution_count": null,
      "metadata": {
        "id": "5HG63urdhPmF"
      },
      "outputs": [],
      "source": [
        "from seqeval.metrics import f1_score"
      ]
    },
    {
      "cell_type": "markdown",
      "metadata": {
        "id": "AaGOvKCu4Ilz"
      },
      "source": [
        "As seqeval accepts list of lists, we'll write a function to obtain the predictions and label ids lists."
      ]
    },
    {
      "cell_type": "code",
      "execution_count": null,
      "metadata": {
        "id": "WJfZS23E__Uo"
      },
      "outputs": [],
      "source": [
        "import numpy as np\n",
        "def align_predictions(predictions, label_ids): # y_pred = predictions , y_true = label_ids\n",
        "  preds = np.argmax(predictions, axis = 2)\n",
        "  batch_size, seq_len = preds.shape\n",
        "\n",
        "  labels_list, preds_list = [], []\n",
        "\n",
        "  for batch_idx in range(batch_size):\n",
        "    example_labels, example_preds = [], []\n",
        "    for seq_idx in range(seq_len):\n",
        "      # Ignore the label IDs = -100\n",
        "      if label_ids[batch_idx,seq_idx] != -100:\n",
        "        example_labels.append(index2tag[label_ids[batch_idx][seq_idx]])\n",
        "        example_preds.append(index2tag[preds[batch_idx][seq_idx]])\n",
        "\n",
        "    labels_list.append(example_labels)\n",
        "    preds_list.append(example_preds)\n",
        "\n",
        "  return preds_list, labels_list"
      ]
    },
    {
      "cell_type": "code",
      "execution_count": null,
      "metadata": {
        "id": "faSPydnTLfMo"
      },
      "outputs": [],
      "source": [
        "# Define a function to compute metrics\n",
        "def compute_metrics(eval_pred):\n",
        "  y_pred, y_true = align_predictions(eval_pred.predictions, eval_pred.label_ids)\n",
        "  return {\"f1\": f1_score(y_true, y_pred)}"
      ]
    },
    {
      "cell_type": "markdown",
      "metadata": {
        "id": "SkyTENjBVNR6"
      },
      "source": [
        "# Fine-tune with Trainer API"
      ]
    },
    {
      "cell_type": "code",
      "execution_count": null,
      "metadata": {
        "id": "7JsciuXSqaRo"
      },
      "outputs": [],
      "source": [
        "from transformers import Trainer\n",
        "\n",
        "trainer = Trainer(model_init = model_init,\n",
        "                  args = training_args,\n",
        "                  data_collator = data_collator,\n",
        "                  compute_metrics = compute_metrics,\n",
        "                  train_dataset = panx_de_encoded[\"train\"],\n",
        "                  eval_dataset = panx_de_encoded[\"validation\"],\n",
        "                  processing_class = xlmr_tokenizer\n",
        "                  )"
      ]
    },
    {
      "cell_type": "code",
      "execution_count": null,
      "metadata": {
        "colab": {
          "base_uri": "https://localhost:8080/",
          "height": 571
        },
        "id": "MrM_nbwzxfTV",
        "outputId": "cc0f8c48-eac6-45b0-e390-8bc4451955fa"
      },
      "outputs": [
        {
          "name": "stderr",
          "output_type": "stream",
          "text": [
            "/usr/local/lib/python3.12/dist-packages/notebook/notebookapp.py:191: SyntaxWarning: invalid escape sequence '\\/'\n",
            "  | |_| | '_ \\/ _` / _` |  _/ -_)\n"
          ]
        },
        {
          "data": {
            "application/javascript": [
              "\n",
              "        window._wandbApiKey = new Promise((resolve, reject) => {\n",
              "            function loadScript(url) {\n",
              "            return new Promise(function(resolve, reject) {\n",
              "                let newScript = document.createElement(\"script\");\n",
              "                newScript.onerror = reject;\n",
              "                newScript.onload = resolve;\n",
              "                document.body.appendChild(newScript);\n",
              "                newScript.src = url;\n",
              "            });\n",
              "            }\n",
              "            loadScript(\"https://cdn.jsdelivr.net/npm/postmate/build/postmate.min.js\").then(() => {\n",
              "            const iframe = document.createElement('iframe')\n",
              "            iframe.style.cssText = \"width:0;height:0;border:none\"\n",
              "            document.body.appendChild(iframe)\n",
              "            const handshake = new Postmate({\n",
              "                container: iframe,\n",
              "                url: 'https://wandb.ai/authorize'\n",
              "            });\n",
              "            const timeout = setTimeout(() => reject(\"Couldn't auto authenticate\"), 5000)\n",
              "            handshake.then(function(child) {\n",
              "                child.on('authorize', data => {\n",
              "                    clearTimeout(timeout)\n",
              "                    resolve(data)\n",
              "                });\n",
              "            });\n",
              "            })\n",
              "        });\n",
              "    "
            ],
            "text/plain": [
              "<IPython.core.display.Javascript object>"
            ]
          },
          "metadata": {},
          "output_type": "display_data"
        },
        {
          "name": "stderr",
          "output_type": "stream",
          "text": [
            "\u001b[34m\u001b[1mwandb\u001b[0m: Logging into wandb.ai. (Learn how to deploy a W&B server locally: https://wandb.me/wandb-server)\n",
            "\u001b[34m\u001b[1mwandb\u001b[0m: You can find your API key in your browser here: https://wandb.ai/authorize?ref=models\n",
            "wandb: Paste an API key from your profile and hit enter:"
          ]
        },
        {
          "name": "stdout",
          "output_type": "stream",
          "text": [
            " ··········\n"
          ]
        },
        {
          "name": "stderr",
          "output_type": "stream",
          "text": [
            "\u001b[34m\u001b[1mwandb\u001b[0m: \u001b[33mWARNING\u001b[0m If you're specifying your api key in code, ensure this code is not shared publicly.\n",
            "\u001b[34m\u001b[1mwandb\u001b[0m: \u001b[33mWARNING\u001b[0m Consider setting the WANDB_API_KEY environment variable, or running `wandb login` from the command line.\n",
            "\u001b[34m\u001b[1mwandb\u001b[0m: No netrc file found, creating one.\n",
            "\u001b[34m\u001b[1mwandb\u001b[0m: Appending key for api.wandb.ai to your netrc file: /root/.netrc\n",
            "\u001b[34m\u001b[1mwandb\u001b[0m: Currently logged in as: \u001b[33mdamayanti-naik222\u001b[0m (\u001b[33mdamayanti-naik222-none\u001b[0m) to \u001b[32mhttps://api.wandb.ai\u001b[0m. Use \u001b[1m`wandb login --relogin`\u001b[0m to force relogin\n"
          ]
        },
        {
          "data": {
            "text/html": [
              "Tracking run with wandb version 0.21.1"
            ],
            "text/plain": [
              "<IPython.core.display.HTML object>"
            ]
          },
          "metadata": {},
          "output_type": "display_data"
        },
        {
          "data": {
            "text/html": [
              "Run data is saved locally in <code>/content/wandb/run-20250903_141154-k8z9mpmb</code>"
            ],
            "text/plain": [
              "<IPython.core.display.HTML object>"
            ]
          },
          "metadata": {},
          "output_type": "display_data"
        },
        {
          "data": {
            "text/html": [
              "Syncing run <strong><a href='https://wandb.ai/damayanti-naik222-none/huggingface/runs/k8z9mpmb' target=\"_blank\">denim-serenity-32</a></strong> to <a href='https://wandb.ai/damayanti-naik222-none/huggingface' target=\"_blank\">Weights & Biases</a> (<a href='https://wandb.me/developer-guide' target=\"_blank\">docs</a>)<br>"
            ],
            "text/plain": [
              "<IPython.core.display.HTML object>"
            ]
          },
          "metadata": {},
          "output_type": "display_data"
        },
        {
          "data": {
            "text/html": [
              " View project at <a href='https://wandb.ai/damayanti-naik222-none/huggingface' target=\"_blank\">https://wandb.ai/damayanti-naik222-none/huggingface</a>"
            ],
            "text/plain": [
              "<IPython.core.display.HTML object>"
            ]
          },
          "metadata": {},
          "output_type": "display_data"
        },
        {
          "data": {
            "text/html": [
              " View run at <a href='https://wandb.ai/damayanti-naik222-none/huggingface/runs/k8z9mpmb' target=\"_blank\">https://wandb.ai/damayanti-naik222-none/huggingface/runs/k8z9mpmb</a>"
            ],
            "text/plain": [
              "<IPython.core.display.HTML object>"
            ]
          },
          "metadata": {},
          "output_type": "display_data"
        },
        {
          "name": "stderr",
          "output_type": "stream",
          "text": [
            "/usr/local/lib/python3.12/dist-packages/torch/utils/data/dataloader.py:666: UserWarning: 'pin_memory' argument is set as true but no accelerator is found, then device pinned memory won't be used.\n",
            "  warnings.warn(warn_msg)\n"
          ]
        },
        {
          "data": {
            "text/html": [
              "\n",
              "    <div>\n",
              "      \n",
              "      <progress value='1575' max='1575' style='width:300px; height:20px; vertical-align: middle;'></progress>\n",
              "      [1575/1575 5:30:58, Epoch 3/3]\n",
              "    </div>\n",
              "    <table border=\"1\" class=\"dataframe\">\n",
              "  <thead>\n",
              " <tr style=\"text-align: left;\">\n",
              "      <th>Epoch</th>\n",
              "      <th>Training Loss</th>\n",
              "      <th>Validation Loss</th>\n",
              "      <th>F1</th>\n",
              "    </tr>\n",
              "  </thead>\n",
              "  <tbody>\n",
              "    <tr>\n",
              "      <td>1</td>\n",
              "      <td>0.271400</td>\n",
              "      <td>0.156047</td>\n",
              "      <td>0.822873</td>\n",
              "    </tr>\n",
              "    <tr>\n",
              "      <td>2</td>\n",
              "      <td>0.128000</td>\n",
              "      <td>0.133228</td>\n",
              "      <td>0.855646</td>\n",
              "    </tr>\n",
              "    <tr>\n",
              "      <td>3</td>\n",
              "      <td>0.083300</td>\n",
              "      <td>0.130850</td>\n",
              "      <td>0.863116</td>\n",
              "    </tr>\n",
              "  </tbody>\n",
              "</table><p>"
            ],
            "text/plain": [
              "<IPython.core.display.HTML object>"
            ]
          },
          "metadata": {},
          "output_type": "display_data"
        },
        {
          "name": "stderr",
          "output_type": "stream",
          "text": [
            "/usr/local/lib/python3.12/dist-packages/torch/utils/data/dataloader.py:666: UserWarning: 'pin_memory' argument is set as true but no accelerator is found, then device pinned memory won't be used.\n",
            "  warnings.warn(warn_msg)\n"
          ]
        },
        {
          "data": {
            "text/plain": [
              "TrainOutput(global_step=1575, training_loss=0.16080530109859648, metrics={'train_runtime': 19935.3548, 'train_samples_per_second': 1.893, 'train_steps_per_second': 0.079, 'total_flos': 854205461835792.0, 'train_loss': 0.16080530109859648, 'epoch': 3.0})"
            ]
          },
          "execution_count": 64,
          "metadata": {},
          "output_type": "execute_result"
        }
      ],
      "source": [
        "trainer.train()"
      ]
    },
    {
      "cell_type": "markdown",
      "metadata": {
        "id": "XTI_lVKHM2Dy"
      },
      "source": [
        "Now, we'll create a trainer for our model to see its performance providing all required parameters that we've created already."
      ]
    },
    {
      "cell_type": "code",
      "execution_count": null,
      "metadata": {
        "colab": {
          "base_uri": "https://localhost:8080/",
          "height": 143
        },
        "id": "O80_r3AG8tfM",
        "outputId": "04d322c4-924e-4e7b-ee07-85bffbd19461"
      },
      "outputs": [
        {
          "data": {
            "application/vnd.google.colaboratory.intrinsic+json": {
              "summary": "{\n  \"name\": \"df\",\n  \"rows\": 3,\n  \"fields\": [\n    {\n      \"column\": \"Epoch\",\n      \"properties\": {\n        \"dtype\": \"number\",\n        \"std\": 1,\n        \"min\": 1,\n        \"max\": 3,\n        \"num_unique_values\": 3,\n        \"samples\": [\n          1,\n          2,\n          3\n        ],\n        \"semantic_type\": \"\",\n        \"description\": \"\"\n      }\n    },\n    {\n      \"column\": \"Training Loss\",\n      \"properties\": {\n        \"dtype\": \"number\",\n        \"std\": 0.0982711046035405,\n        \"min\": 0.0833,\n        \"max\": 0.2714,\n        \"num_unique_values\": 3,\n        \"samples\": [\n          0.2714,\n          0.128,\n          0.0833\n        ],\n        \"semantic_type\": \"\",\n        \"description\": \"\"\n      }\n    },\n    {\n      \"column\": \"Validation Loss\",\n      \"properties\": {\n        \"dtype\": \"number\",\n        \"std\": 0.013911823163560736,\n        \"min\": 0.13085024058818817,\n        \"max\": 0.15604674816131592,\n        \"num_unique_values\": 3,\n        \"samples\": [\n          0.15604674816131592,\n          0.13322751224040985,\n          0.13085024058818817\n        ],\n        \"semantic_type\": \"\",\n        \"description\": \"\"\n      }\n    },\n    {\n      \"column\": \"F1\",\n      \"properties\": {\n        \"dtype\": \"number\",\n        \"std\": 0.021406263063982918,\n        \"min\": 0.8228730822873082,\n        \"max\": 0.8631159213899174,\n        \"num_unique_values\": 3,\n        \"samples\": [\n          0.8228730822873082,\n          0.8556463681362957,\n          0.8631159213899174\n        ],\n        \"semantic_type\": \"\",\n        \"description\": \"\"\n      }\n    }\n  ]\n}",
              "type": "dataframe"
            },
            "text/html": [
              "\n",
              "  <div id=\"df-a78aae6c-b713-48ba-86ac-24416be8c79f\" class=\"colab-df-container\">\n",
              "    <div>\n",
              "<style scoped>\n",
              "    .dataframe tbody tr th:only-of-type {\n",
              "        vertical-align: middle;\n",
              "    }\n",
              "\n",
              "    .dataframe tbody tr th {\n",
              "        vertical-align: top;\n",
              "    }\n",
              "\n",
              "    .dataframe thead th {\n",
              "        text-align: right;\n",
              "    }\n",
              "</style>\n",
              "<table border=\"1\" class=\"dataframe\">\n",
              "  <thead>\n",
              "    <tr style=\"text-align: right;\">\n",
              "      <th></th>\n",
              "      <th>Epoch</th>\n",
              "      <th>Training Loss</th>\n",
              "      <th>Validation Loss</th>\n",
              "      <th>F1</th>\n",
              "    </tr>\n",
              "  </thead>\n",
              "  <tbody>\n",
              "    <tr>\n",
              "      <th>0</th>\n",
              "      <td>1</td>\n",
              "      <td>0.2714</td>\n",
              "      <td>0.156047</td>\n",
              "      <td>0.822873</td>\n",
              "    </tr>\n",
              "    <tr>\n",
              "      <th>2</th>\n",
              "      <td>2</td>\n",
              "      <td>0.1280</td>\n",
              "      <td>0.133228</td>\n",
              "      <td>0.855646</td>\n",
              "    </tr>\n",
              "    <tr>\n",
              "      <th>4</th>\n",
              "      <td>3</td>\n",
              "      <td>0.0833</td>\n",
              "      <td>0.130850</td>\n",
              "      <td>0.863116</td>\n",
              "    </tr>\n",
              "  </tbody>\n",
              "</table>\n",
              "</div>\n",
              "    <div class=\"colab-df-buttons\">\n",
              "\n",
              "  <div class=\"colab-df-container\">\n",
              "    <button class=\"colab-df-convert\" onclick=\"convertToInteractive('df-a78aae6c-b713-48ba-86ac-24416be8c79f')\"\n",
              "            title=\"Convert this dataframe to an interactive table.\"\n",
              "            style=\"display:none;\">\n",
              "\n",
              "  <svg xmlns=\"http://www.w3.org/2000/svg\" height=\"24px\" viewBox=\"0 -960 960 960\">\n",
              "    <path d=\"M120-120v-720h720v720H120Zm60-500h600v-160H180v160Zm220 220h160v-160H400v160Zm0 220h160v-160H400v160ZM180-400h160v-160H180v160Zm440 0h160v-160H620v160ZM180-180h160v-160H180v160Zm440 0h160v-160H620v160Z\"/>\n",
              "  </svg>\n",
              "    </button>\n",
              "\n",
              "  <style>\n",
              "    .colab-df-container {\n",
              "      display:flex;\n",
              "      gap: 12px;\n",
              "    }\n",
              "\n",
              "    .colab-df-convert {\n",
              "      background-color: #E8F0FE;\n",
              "      border: none;\n",
              "      border-radius: 50%;\n",
              "      cursor: pointer;\n",
              "      display: none;\n",
              "      fill: #1967D2;\n",
              "      height: 32px;\n",
              "      padding: 0 0 0 0;\n",
              "      width: 32px;\n",
              "    }\n",
              "\n",
              "    .colab-df-convert:hover {\n",
              "      background-color: #E2EBFA;\n",
              "      box-shadow: 0px 1px 2px rgba(60, 64, 67, 0.3), 0px 1px 3px 1px rgba(60, 64, 67, 0.15);\n",
              "      fill: #174EA6;\n",
              "    }\n",
              "\n",
              "    .colab-df-buttons div {\n",
              "      margin-bottom: 4px;\n",
              "    }\n",
              "\n",
              "    [theme=dark] .colab-df-convert {\n",
              "      background-color: #3B4455;\n",
              "      fill: #D2E3FC;\n",
              "    }\n",
              "\n",
              "    [theme=dark] .colab-df-convert:hover {\n",
              "      background-color: #434B5C;\n",
              "      box-shadow: 0px 1px 3px 1px rgba(0, 0, 0, 0.15);\n",
              "      filter: drop-shadow(0px 1px 2px rgba(0, 0, 0, 0.3));\n",
              "      fill: #FFFFFF;\n",
              "    }\n",
              "  </style>\n",
              "\n",
              "    <script>\n",
              "      const buttonEl =\n",
              "        document.querySelector('#df-a78aae6c-b713-48ba-86ac-24416be8c79f button.colab-df-convert');\n",
              "      buttonEl.style.display =\n",
              "        google.colab.kernel.accessAllowed ? 'block' : 'none';\n",
              "\n",
              "      async function convertToInteractive(key) {\n",
              "        const element = document.querySelector('#df-a78aae6c-b713-48ba-86ac-24416be8c79f');\n",
              "        const dataTable =\n",
              "          await google.colab.kernel.invokeFunction('convertToInteractive',\n",
              "                                                    [key], {});\n",
              "        if (!dataTable) return;\n",
              "\n",
              "        const docLinkHtml = 'Like what you see? Visit the ' +\n",
              "          '<a target=\"_blank\" href=https://colab.research.google.com/notebooks/data_table.ipynb>data table notebook</a>'\n",
              "          + ' to learn more about interactive tables.';\n",
              "        element.innerHTML = '';\n",
              "        dataTable['output_type'] = 'display_data';\n",
              "        await google.colab.output.renderOutput(dataTable, element);\n",
              "        const docLink = document.createElement('div');\n",
              "        docLink.innerHTML = docLinkHtml;\n",
              "        element.appendChild(docLink);\n",
              "      }\n",
              "    </script>\n",
              "  </div>\n",
              "\n",
              "\n",
              "    <div id=\"df-b803f0d6-a12a-4ebe-b186-8b7594bd2094\">\n",
              "      <button class=\"colab-df-quickchart\" onclick=\"quickchart('df-b803f0d6-a12a-4ebe-b186-8b7594bd2094')\"\n",
              "                title=\"Suggest charts\"\n",
              "                style=\"display:none;\">\n",
              "\n",
              "<svg xmlns=\"http://www.w3.org/2000/svg\" height=\"24px\"viewBox=\"0 0 24 24\"\n",
              "     width=\"24px\">\n",
              "    <g>\n",
              "        <path d=\"M19 3H5c-1.1 0-2 .9-2 2v14c0 1.1.9 2 2 2h14c1.1 0 2-.9 2-2V5c0-1.1-.9-2-2-2zM9 17H7v-7h2v7zm4 0h-2V7h2v10zm4 0h-2v-4h2v4z\"/>\n",
              "    </g>\n",
              "</svg>\n",
              "      </button>\n",
              "\n",
              "<style>\n",
              "  .colab-df-quickchart {\n",
              "      --bg-color: #E8F0FE;\n",
              "      --fill-color: #1967D2;\n",
              "      --hover-bg-color: #E2EBFA;\n",
              "      --hover-fill-color: #174EA6;\n",
              "      --disabled-fill-color: #AAA;\n",
              "      --disabled-bg-color: #DDD;\n",
              "  }\n",
              "\n",
              "  [theme=dark] .colab-df-quickchart {\n",
              "      --bg-color: #3B4455;\n",
              "      --fill-color: #D2E3FC;\n",
              "      --hover-bg-color: #434B5C;\n",
              "      --hover-fill-color: #FFFFFF;\n",
              "      --disabled-bg-color: #3B4455;\n",
              "      --disabled-fill-color: #666;\n",
              "  }\n",
              "\n",
              "  .colab-df-quickchart {\n",
              "    background-color: var(--bg-color);\n",
              "    border: none;\n",
              "    border-radius: 50%;\n",
              "    cursor: pointer;\n",
              "    display: none;\n",
              "    fill: var(--fill-color);\n",
              "    height: 32px;\n",
              "    padding: 0;\n",
              "    width: 32px;\n",
              "  }\n",
              "\n",
              "  .colab-df-quickchart:hover {\n",
              "    background-color: var(--hover-bg-color);\n",
              "    box-shadow: 0 1px 2px rgba(60, 64, 67, 0.3), 0 1px 3px 1px rgba(60, 64, 67, 0.15);\n",
              "    fill: var(--button-hover-fill-color);\n",
              "  }\n",
              "\n",
              "  .colab-df-quickchart-complete:disabled,\n",
              "  .colab-df-quickchart-complete:disabled:hover {\n",
              "    background-color: var(--disabled-bg-color);\n",
              "    fill: var(--disabled-fill-color);\n",
              "    box-shadow: none;\n",
              "  }\n",
              "\n",
              "  .colab-df-spinner {\n",
              "    border: 2px solid var(--fill-color);\n",
              "    border-color: transparent;\n",
              "    border-bottom-color: var(--fill-color);\n",
              "    animation:\n",
              "      spin 1s steps(1) infinite;\n",
              "  }\n",
              "\n",
              "  @keyframes spin {\n",
              "    0% {\n",
              "      border-color: transparent;\n",
              "      border-bottom-color: var(--fill-color);\n",
              "      border-left-color: var(--fill-color);\n",
              "    }\n",
              "    20% {\n",
              "      border-color: transparent;\n",
              "      border-left-color: var(--fill-color);\n",
              "      border-top-color: var(--fill-color);\n",
              "    }\n",
              "    30% {\n",
              "      border-color: transparent;\n",
              "      border-left-color: var(--fill-color);\n",
              "      border-top-color: var(--fill-color);\n",
              "      border-right-color: var(--fill-color);\n",
              "    }\n",
              "    40% {\n",
              "      border-color: transparent;\n",
              "      border-right-color: var(--fill-color);\n",
              "      border-top-color: var(--fill-color);\n",
              "    }\n",
              "    60% {\n",
              "      border-color: transparent;\n",
              "      border-right-color: var(--fill-color);\n",
              "    }\n",
              "    80% {\n",
              "      border-color: transparent;\n",
              "      border-right-color: var(--fill-color);\n",
              "      border-bottom-color: var(--fill-color);\n",
              "    }\n",
              "    90% {\n",
              "      border-color: transparent;\n",
              "      border-bottom-color: var(--fill-color);\n",
              "    }\n",
              "  }\n",
              "</style>\n",
              "\n",
              "      <script>\n",
              "        async function quickchart(key) {\n",
              "          const quickchartButtonEl =\n",
              "            document.querySelector('#' + key + ' button');\n",
              "          quickchartButtonEl.disabled = true;  // To prevent multiple clicks.\n",
              "          quickchartButtonEl.classList.add('colab-df-spinner');\n",
              "          try {\n",
              "            const charts = await google.colab.kernel.invokeFunction(\n",
              "                'suggestCharts', [key], {});\n",
              "          } catch (error) {\n",
              "            console.error('Error during call to suggestCharts:', error);\n",
              "          }\n",
              "          quickchartButtonEl.classList.remove('colab-df-spinner');\n",
              "          quickchartButtonEl.classList.add('colab-df-quickchart-complete');\n",
              "        }\n",
              "        (() => {\n",
              "          let quickchartButtonEl =\n",
              "            document.querySelector('#df-b803f0d6-a12a-4ebe-b186-8b7594bd2094 button');\n",
              "          quickchartButtonEl.style.display =\n",
              "            google.colab.kernel.accessAllowed ? 'block' : 'none';\n",
              "        })();\n",
              "      </script>\n",
              "    </div>\n",
              "\n",
              "    </div>\n",
              "  </div>\n"
            ],
            "text/plain": [
              "   Epoch  Training Loss  Validation Loss        F1\n",
              "0      1         0.2714         0.156047  0.822873\n",
              "2      2         0.1280         0.133228  0.855646\n",
              "4      3         0.0833         0.130850  0.863116"
            ]
          },
          "execution_count": 65,
          "metadata": {},
          "output_type": "execute_result"
        }
      ],
      "source": [
        "import pandas as pd\n",
        "df = pd.DataFrame(trainer.state.log_history)[['epoch','loss' ,'eval_loss', 'eval_f1']]\n",
        "df = df.rename(columns={\"epoch\":\"Epoch\",\"loss\": \"Training Loss\", \"eval_loss\": \"Validation Loss\", \"eval_f1\":\"F1\"})\n",
        "df['Epoch'] = df[\"Epoch\"].apply(lambda x: round(x))\n",
        "df['Training Loss'] = df[\"Training Loss\"].ffill()\n",
        "df[['Validation Loss', 'F1']] = df[['Validation Loss', 'F1']].bfill().ffill()\n",
        "df.drop_duplicates()"
      ]
    },
    {
      "cell_type": "markdown",
      "metadata": {
        "id": "FXTh9BqQ-Ia8"
      },
      "source": [
        "# **Cross-Lingual Transfer**"
      ]
    },
    {
      "cell_type": "code",
      "execution_count": null,
      "metadata": {
        "id": "84QjdRah-T2E"
      },
      "outputs": [],
      "source": [
        "# A function to evaluate the metrics\n",
        "def get_f1_score(trainer, dataset):\n",
        "    return trainer.predict(dataset).metrics[\"test_f1\"]"
      ]
    },
    {
      "cell_type": "markdown",
      "metadata": {
        "id": "F76sPTnR-syC"
      },
      "source": [
        "Evaluate on German test dataset."
      ]
    },
    {
      "cell_type": "code",
      "execution_count": null,
      "metadata": {
        "colab": {
          "base_uri": "https://localhost:8080/",
          "height": 89
        },
        "id": "gkebRBC4-UDu",
        "outputId": "5ae328ee-d167-401a-fd3c-992ef8a77460"
      },
      "outputs": [
        {
          "name": "stderr",
          "output_type": "stream",
          "text": [
            "/usr/local/lib/python3.12/dist-packages/torch/utils/data/dataloader.py:666: UserWarning: 'pin_memory' argument is set as true but no accelerator is found, then device pinned memory won't be used.\n",
            "  warnings.warn(warn_msg)\n"
          ]
        },
        {
          "data": {
            "text/html": [],
            "text/plain": [
              "<IPython.core.display.HTML object>"
            ]
          },
          "metadata": {},
          "output_type": "display_data"
        },
        {
          "name": "stdout",
          "output_type": "stream",
          "text": [
            "F1-score of [de] model on [de] dataset: 0.874\n"
          ]
        }
      ],
      "source": [
        "f1_scores = defaultdict(dict)\n",
        "f1_scores[\"de\"][\"de\"] = get_f1_score(trainer, panx_de_encoded[\"test\"])\n",
        "print(f\"F1-score of [de] model on [de] dataset: {f1_scores['de']['de']:.3f}\")"
      ]
    },
    {
      "cell_type": "markdown",
      "metadata": {
        "id": "Vl_1PbY1_Ppv"
      },
      "source": [
        "Let us see the fine-tuned model's performance on French, Italian and English."
      ]
    },
    {
      "cell_type": "code",
      "execution_count": null,
      "metadata": {
        "id": "H2jEA0Le3MNH"
      },
      "outputs": [],
      "source": [
        "# A function to evaluate on all test data\n",
        "\n",
        "def evaluate_lang_performance(lang, trainer):\n",
        "    panx_ds = encode_panx_dataset(panx_ch[lang])\n",
        "    return get_f1_score(trainer, panx_ds[\"test\"])"
      ]
    },
    {
      "cell_type": "code",
      "execution_count": null,
      "metadata": {
        "colab": {
          "base_uri": "https://localhost:8080/",
          "height": 357,
          "referenced_widgets": [
            "0ff15047def042cf8263ffc265808374",
            "a5688742bd7c40c5bb322339e200ceef",
            "1ea8393df0cc46c99e5ad40061adc632",
            "a79484b1959d437885d168396ad2ca08",
            "689fca3218a64ffca9a76b2a5eecdcdf",
            "7d9fd72bae0d49a1951dfe326a86d7eb",
            "eb59878e0e2a4f798e330b0d80528781",
            "fd95b872962248a6ab05eb040d300a38",
            "3d82c578a15f48b2868376d5c398ea16",
            "1f6aa49588dc4878a2778cf851b2aed8",
            "f0261f3c340a4a2891e726ed4dc54ff7",
            "3a4e3ffd84234e259c6aa1a574dc454d",
            "d50b3ccd70af4af28e429f486720ae86",
            "328a07c764014ba998e919c99eaaf4fe",
            "ff596b87e9754ddb940599d2117cbfa0",
            "0bf123bd443949bf9f2c33ba8c3464d0",
            "6b498d9e9812497fa5c8655f6b5289c1",
            "49afc5816204479ea2eeebd65c3fc6f1",
            "28736ae94126461391c3981316abc18b",
            "08d32ccd1414408e946ec3fa2d488ddd",
            "c6af1955a53d45c7afecba8a79686f39",
            "67c143d75f804802a28641e2beb5e376",
            "e408681d4aad457695230e6f1efdfdeb",
            "2202886a8dde4ee695b4f1d20539f9ee",
            "9216a1086d394cca94f1b31df3e371f0",
            "77351481d5f84be2b4c3d79e57a9faa7",
            "e2f50cc1b6ff44afaae8cff6a345f7c5",
            "778d7a166f924943a37af5ed2ab4a096",
            "b0e6de98754c4fbbb815050ab59dff69",
            "e329baf3de2e46f49eed96b9731ad34f",
            "c3c6b44e19814de5b1c159735c9093ca",
            "ef783269104942629b67792f2875e6df",
            "68e0117160f54abebd175f0f6a519bfe",
            "cc93247dbe3d4ac0b67450e14eb3b175",
            "f6818fb84c054b5485beb0d6a960c29f",
            "a968993075bf4bcca8dac163c2dc7732",
            "976d2ed9dfe94355aa368c2a7987b1a3",
            "0bd7ec8eaf364201ae4325561628057c",
            "6578ce7b1f2048fba09465db008881d6",
            "8789eb1c493d42c8add6029a534f8d8c",
            "e8d31b904018433992828a960c31d9c6",
            "67eccac3dd10424f8143350151249125",
            "554e427d439745c58c3607a6ce1e7c49",
            "3a83e612122a42ac813dc2a8bdcfe43c",
            "13e8465ce9fd4ecf8c658052846d15af",
            "982d4b8dc3454e5a956fb63c8a162cd9",
            "e9d68ad490974c9f880fd113e772ab67",
            "8334ab92fcd84cac98a4e9170f306fc2",
            "0ad03078aa1349e1a50e43a6f18d0ea8",
            "48c571b2637d433cae2d97784c6c0f23",
            "38aa676a65384c53a4387a98dcfc2fee",
            "f761fc38048643adab7efdd5b53dc94c",
            "3cc6289ca33b4c6583c9dd13508dc793",
            "2c3f61731ef44590aa96b78cde15eb95",
            "441502e63bc743579b349655befb7524",
            "291472d393a54a18aab5e4e4e9e88a4d",
            "d66fb308d795457cb2a726e3fd643df4",
            "6cb42e21f73d424b8b90e716b9dee42f",
            "3cbc23d895394c19b451d515028b4437",
            "d22a8e9d985641e294105ea9d09e58b3",
            "3dece1eee69848b992eaaa8db468de52",
            "82cc48c732094583a559142d9cb30aec",
            "98162ba356b0416c9155c4b21730e9d7",
            "bc3480975ddb443e908ee46a6a3f2463",
            "7e051e79d1844838b99a56ca4e73876b",
            "88184694f64e4e4c99bb73f5f97d0ff1",
            "f26132307b4e4de8a4f9532fcd4715da",
            "973a9537cb4148e88421014c63a40f40",
            "9fcad96567c948db8acacdd5ab161661",
            "587b8e0d17644153a38cd4dfcf776b4c",
            "a468599ea9c643fdb596f197fd8e9253",
            "7847ba80dafc4856952f6d54d7155c12",
            "83749608d9e24d5b9be0959b2df8f1cd",
            "74c9aaa32d4a445385286e87d4085c3b",
            "b455374e290b4fd3850207f241a07239",
            "d66894a98eb2468cb9de19f75963deff",
            "1512b1fef23041eabc9147de884d75f7",
            "209ab830d4af42349b7fc73e4c17b057",
            "aa36d929d3d84e33a55e22d6b2e545cb",
            "7bf3d59a0c474748afefa44e70bab670",
            "98b706051c1a4731b17bf366d71e996b",
            "ceee8317fa0d4bba9dc4e3d75e4c09a3",
            "b65e8b06d9854aa58ed06a4d678a78b5",
            "88439ab176fa4ba496a504849e22893d",
            "fddf4bd616a24ed480bc88df515f7e56",
            "9dcbf7f117ca44c1884fd1f009111ea8",
            "5c4954f6643846ada1a763f54a763932",
            "2acc1709a5714465a8d79a0329d64fb8",
            "ee2b7e6f79414784abd3619ba2882675",
            "8af3a58de505488b875c15fabfc80106",
            "acf5a549b15b4a00841bc0ea73f3a302",
            "89ce8051adf645e58dccb98b475beea4",
            "9662bcfffc8648989f4c3366a5711a65",
            "874281e9ce164cfe8844b62c040cd16c",
            "49909be4971c4b34a9a37ca63a1f70c0",
            "d41965dab9634668b12a0d74178a35b4",
            "98e1606a4df44796a5a8c12572d17b80",
            "7ce1c782dc75401593aea7dfa037541e",
            "f6db63c4d8d94069be885267362f536f"
          ]
        },
        "id": "3tgaoTNi_r_U",
        "outputId": "b0feb868-de3a-4620-b048-ac8e6b91e05e"
      },
      "outputs": [
        {
          "data": {
            "application/vnd.jupyter.widget-view+json": {
              "model_id": "0ff15047def042cf8263ffc265808374",
              "version_major": 2,
              "version_minor": 0
            },
            "text/plain": [
              "Map:   0%|          | 0/4580 [00:00<?, ? examples/s]"
            ]
          },
          "metadata": {},
          "output_type": "display_data"
        },
        {
          "data": {
            "application/vnd.jupyter.widget-view+json": {
              "model_id": "3a4e3ffd84234e259c6aa1a574dc454d",
              "version_major": 2,
              "version_minor": 0
            },
            "text/plain": [
              "Map:   0%|          | 0/2290 [00:00<?, ? examples/s]"
            ]
          },
          "metadata": {},
          "output_type": "display_data"
        },
        {
          "data": {
            "application/vnd.jupyter.widget-view+json": {
              "model_id": "e408681d4aad457695230e6f1efdfdeb",
              "version_major": 2,
              "version_minor": 0
            },
            "text/plain": [
              "Map:   0%|          | 0/2290 [00:00<?, ? examples/s]"
            ]
          },
          "metadata": {},
          "output_type": "display_data"
        },
        {
          "data": {
            "text/html": [],
            "text/plain": [
              "<IPython.core.display.HTML object>"
            ]
          },
          "metadata": {},
          "output_type": "display_data"
        },
        {
          "name": "stdout",
          "output_type": "stream",
          "text": [
            "F1-score of [de] model on [fr] dataset: 0.721\n"
          ]
        },
        {
          "data": {
            "application/vnd.jupyter.widget-view+json": {
              "model_id": "cc93247dbe3d4ac0b67450e14eb3b175",
              "version_major": 2,
              "version_minor": 0
            },
            "text/plain": [
              "Map:   0%|          | 0/1680 [00:00<?, ? examples/s]"
            ]
          },
          "metadata": {},
          "output_type": "display_data"
        },
        {
          "data": {
            "application/vnd.jupyter.widget-view+json": {
              "model_id": "13e8465ce9fd4ecf8c658052846d15af",
              "version_major": 2,
              "version_minor": 0
            },
            "text/plain": [
              "Map:   0%|          | 0/840 [00:00<?, ? examples/s]"
            ]
          },
          "metadata": {},
          "output_type": "display_data"
        },
        {
          "data": {
            "application/vnd.jupyter.widget-view+json": {
              "model_id": "291472d393a54a18aab5e4e4e9e88a4d",
              "version_major": 2,
              "version_minor": 0
            },
            "text/plain": [
              "Map:   0%|          | 0/840 [00:00<?, ? examples/s]"
            ]
          },
          "metadata": {},
          "output_type": "display_data"
        },
        {
          "data": {
            "text/html": [],
            "text/plain": [
              "<IPython.core.display.HTML object>"
            ]
          },
          "metadata": {},
          "output_type": "display_data"
        },
        {
          "name": "stdout",
          "output_type": "stream",
          "text": [
            "F1-score of [de] model on [it] dataset: 0.655\n"
          ]
        },
        {
          "data": {
            "application/vnd.jupyter.widget-view+json": {
              "model_id": "f26132307b4e4de8a4f9532fcd4715da",
              "version_major": 2,
              "version_minor": 0
            },
            "text/plain": [
              "Map:   0%|          | 0/1180 [00:00<?, ? examples/s]"
            ]
          },
          "metadata": {},
          "output_type": "display_data"
        },
        {
          "data": {
            "application/vnd.jupyter.widget-view+json": {
              "model_id": "209ab830d4af42349b7fc73e4c17b057",
              "version_major": 2,
              "version_minor": 0
            },
            "text/plain": [
              "Map:   0%|          | 0/590 [00:00<?, ? examples/s]"
            ]
          },
          "metadata": {},
          "output_type": "display_data"
        },
        {
          "data": {
            "application/vnd.jupyter.widget-view+json": {
              "model_id": "ee2b7e6f79414784abd3619ba2882675",
              "version_major": 2,
              "version_minor": 0
            },
            "text/plain": [
              "Map:   0%|          | 0/590 [00:00<?, ? examples/s]"
            ]
          },
          "metadata": {},
          "output_type": "display_data"
        },
        {
          "data": {
            "text/html": [],
            "text/plain": [
              "<IPython.core.display.HTML object>"
            ]
          },
          "metadata": {},
          "output_type": "display_data"
        },
        {
          "name": "stdout",
          "output_type": "stream",
          "text": [
            "F1-score of [de] model on [en] dataset: 0.595\n"
          ]
        }
      ],
      "source": [
        "f1_scores[\"de\"][\"fr\"] = evaluate_lang_performance(\"fr\", trainer)\n",
        "print(f\"F1-score of [de] model on [fr] dataset: {f1_scores['de']['fr']:.3f}\")\n",
        "\n",
        "f1_scores[\"de\"][\"it\"] = evaluate_lang_performance(\"it\", trainer)\n",
        "print(f\"F1-score of [de] model on [it] dataset: {f1_scores['de']['it']:.3f}\")\n",
        "\n",
        "f1_scores[\"de\"][\"en\"] = evaluate_lang_performance(\"en\", trainer)\n",
        "print(f\"F1-score of [de] model on [en] dataset: {f1_scores['de']['en']:.3f}\")\n",
        "\n"
      ]
    },
    {
      "cell_type": "markdown",
      "metadata": {
        "id": "s8gO5KmU5C-m"
      },
      "source": [
        "**Observations**: So far, we fine-tuned our XLM-R model on German dataset, and observed a f1-socore of 85%, while in other language dataset, it yields modest performance which is really a concern and we need to work on it to improve the performance significantly. <br>\n",
        "\n",
        "In order to work towards it, let us first train our XLM-R model on a multilingual dataset with concatenated corpus of German, Freanch, Italian and English.\n",
        "\n",
        "For simplicity, I'll keep the same hyperparameters from the fine-tuning run on the German corpus, except the logging_steps argument of Training Arguments to account for the increase size of the training multilingual corpus.\n",
        "\n",
        "\n"
      ]
    },
    {
      "cell_type": "markdown",
      "metadata": {
        "id": "L1OukHIYjiWG"
      },
      "source": [
        "To carry out this opration, first I'll concatetanate all four languages corpora.  "
      ]
    },
    {
      "cell_type": "code",
      "execution_count": null,
      "metadata": {
        "id": "YvKYv3U6BWpL"
      },
      "outputs": [],
      "source": [
        "from datasets import concatenate_datasets\n",
        "\n",
        "def concatenate_splits(corpora):\n",
        "    multi_corpus = DatasetDict()\n",
        "    for split in corpora[0].keys():\n",
        "        multi_corpus[split] = concatenate_datasets(\n",
        "            [corpus[split] for corpus in corpora]).shuffle(seed=42)\n",
        "    return multi_corpus"
      ]
    },
    {
      "cell_type": "code",
      "execution_count": null,
      "metadata": {
        "id": "kvUM0eB_Bd_E"
      },
      "outputs": [],
      "source": [
        "panx_de_fr_it_en_encoded = concatenate_splits([panx_de_encoded, panx_fr_encoded, panx_it_encoded, panx_en_encoded])"
      ]
    },
    {
      "cell_type": "code",
      "execution_count": null,
      "metadata": {
        "colab": {
          "base_uri": "https://localhost:8080/"
        },
        "id": "K7Zp2nx3N8iA",
        "outputId": "f44c8dc5-d22c-4196-f041-ca71dad8a8c1"
      },
      "outputs": [
        {
          "data": {
            "text/plain": [
              "DatasetDict({\n",
              "    train: Dataset({\n",
              "        features: ['input_ids', 'attention_mask', 'labels'],\n",
              "        num_rows: 20020\n",
              "    })\n",
              "    validation: Dataset({\n",
              "        features: ['input_ids', 'attention_mask', 'labels'],\n",
              "        num_rows: 10010\n",
              "    })\n",
              "    test: Dataset({\n",
              "        features: ['input_ids', 'attention_mask', 'labels'],\n",
              "        num_rows: 10010\n",
              "    })\n",
              "})"
            ]
          },
          "execution_count": 72,
          "metadata": {},
          "output_type": "execute_result"
        }
      ],
      "source": [
        "panx_de_fr_it_en_encoded"
      ]
    },
    {
      "cell_type": "code",
      "execution_count": null,
      "metadata": {
        "id": "DucQc88UBwqQ"
      },
      "outputs": [],
      "source": [
        "training_args.logging_steps = (len(panx_de_fr_it_en_encoded[\"train\"])/10) // batch_size\n"
      ]
    },
    {
      "cell_type": "code",
      "execution_count": null,
      "metadata": {
        "id": "QEgNzII7Q8Ii"
      },
      "outputs": [],
      "source": [
        "training_args.output_dir = \"xlm-roberta-base-finetuned-panx-de-fr-it-en\"\n",
        "\n",
        "trainer = Trainer(model_init = model_init,\n",
        "                  args = training_args,\n",
        "                  data_collator = data_collator,\n",
        "                  compute_metrics = compute_metrics,\n",
        "                  train_dataset = panx_de_fr_it_en_encoded[\"train\"],\n",
        "                  eval_dataset = panx_de_fr_it_en_encoded[\"validation\"],\n",
        "                  processing_class = xlmr_tokenizer)"
      ]
    },
    {
      "cell_type": "code",
      "execution_count": null,
      "metadata": {
        "colab": {
          "base_uri": "https://localhost:8080/",
          "height": 75
        },
        "id": "zcAKXZyMNKGV",
        "outputId": "5c38de68-64aa-490d-dda0-b579d9a98691"
      },
      "outputs": [
        {
          "data": {
            "text/html": [
              "\n",
              "    <div>\n",
              "      \n",
              "      <progress value='3' max='2505' style='width:300px; height:20px; vertical-align: middle;'></progress>\n",
              "      [   3/2505 00:11 < 7:56:57, 0.09 it/s, Epoch 0.00/3]\n",
              "    </div>\n",
              "    <table border=\"1\" class=\"dataframe\">\n",
              "  <thead>\n",
              " <tr style=\"text-align: left;\">\n",
              "      <th>Epoch</th>\n",
              "      <th>Training Loss</th>\n",
              "      <th>Validation Loss</th>\n",
              "    </tr>\n",
              "  </thead>\n",
              "  <tbody>\n",
              "  </tbody>\n",
              "</table><p>"
            ],
            "text/plain": [
              "<IPython.core.display.HTML object>"
            ]
          },
          "metadata": {},
          "output_type": "display_data"
        }
      ],
      "source": [
        "trainer.train()"
      ]
    },
    {
      "cell_type": "markdown",
      "metadata": {
        "id": "MJeWVVdnWB3s"
      },
      "source": [
        "**Due to computation limitation (per day), the run stopped. I need to carry out the further tuning with more compute.**"
      ]
    }
  ],
  "metadata": {
    "colab": {
      "provenance": [],
      "include_colab_link": true
    },
    "kernelspec": {
      "display_name": "Python 3 (ipykernel)",
      "language": "python",
      "name": "python3"
    },
    "language_info": {
      "codemirror_mode": {
        "name": "ipython",
        "version": 3
      },
      "file_extension": ".py",
      "mimetype": "text/x-python",
      "name": "python",
      "nbconvert_exporter": "python",
      "pygments_lexer": "ipython3",
      "version": "3.11.3"
    }
  },
  "nbformat": 4,
  "nbformat_minor": 0
}